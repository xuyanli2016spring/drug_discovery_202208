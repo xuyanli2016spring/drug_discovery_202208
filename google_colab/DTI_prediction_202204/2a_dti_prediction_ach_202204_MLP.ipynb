{
  "cells": [
    {
      "cell_type": "code",
      "execution_count": null,
      "metadata": {
        "colab": {
          "base_uri": "https://localhost:8080/"
        },
        "id": "HrenTrRdMleY",
        "outputId": "dc50f75d-3caa-448b-9683-44d02ca2ed06"
      },
      "outputs": [
        {
          "name": "stdout",
          "output_type": "stream",
          "text": [
            "--2022-04-05 08:11:13--  https://repo.anaconda.com/miniconda/Miniconda3-py37_4.8.2-Linux-x86_64.sh\n",
            "Resolving repo.anaconda.com (repo.anaconda.com)... 104.16.130.3, 104.16.131.3, 2606:4700::6810:8303, ...\n",
            "Connecting to repo.anaconda.com (repo.anaconda.com)|104.16.130.3|:443... connected.\n",
            "HTTP request sent, awaiting response... 200 OK\n",
            "Length: 85055499 (81M) [application/x-sh]\n",
            "Saving to: ‘Miniconda3-py37_4.8.2-Linux-x86_64.sh.1’\n",
            "\n",
            "Miniconda3-py37_4.8 100%[===================>]  81.12M   169MB/s    in 0.5s    \n",
            "\n",
            "2022-04-05 08:11:14 (169 MB/s) - ‘Miniconda3-py37_4.8.2-Linux-x86_64.sh.1’ saved [85055499/85055499]\n",
            "\n",
            "PREFIX=/usr/local\n",
            "Unpacking payload ...\n",
            "Collecting package metadata (current_repodata.json): - \b\b\\ \b\b| \b\b/ \b\b- \b\bdone\n",
            "Solving environment: | \b\b/ \b\b- \b\b\\ \b\b| \b\b/ \n",
            "The environment is inconsistent, please check the package plan carefully\n",
            "The following packages are causing the inconsistency:\n",
            "\n",
            "  - defaults/linux-64::urllib3==1.25.8=py37_0\n",
            "  - defaults/linux-64::jpeg==9d=h7f8727e_0\n",
            "  - defaults/linux-64::conda-package-handling==1.6.0=py37h7b6447c_0\n",
            "  - defaults/linux-64::giflib==5.2.1=h7b6447c_0\n",
            "  - defaults/linux-64::libboost==1.73.0=h3ff78a5_11\n",
            "  - defaults/linux-64::numpy-base==1.21.2=py37h79a1101_0\n",
            "  - defaults/linux-64::libxcb==1.14=h7b6447c_0\n",
            "  - defaults/linux-64::pycosat==0.6.3=py37h7b6447c_0\n",
            "  - defaults/linux-64::tk==8.6.8=hbc83047_0\n",
            "  - defaults/linux-64::lz4-c==1.9.3=h295c915_1\n",
            "  - defaults/noarch::tqdm==4.42.1=py_0\n",
            "  - defaults/linux-64::libffi==3.3=he6710b0_2\n",
            "  - defaults/linux-64::glib==2.69.1=h4ff587b_1\n",
            "  - defaults/linux-64::chardet==3.0.4=py37_1003\n",
            "  - defaults/linux-64::setuptools==45.2.0=py37_0\n",
            "  - defaults/linux-64::libxml2==2.9.12=h03d6c58_0\n",
            "  - defaults/linux-64::cffi==1.14.0=py37h2e261b9_0\n",
            "  - defaults/linux-64::conda==4.12.0=py37h06a4308_0\n",
            "  - defaults/linux-64::freetype==2.11.0=h70c0345_0\n",
            "  - defaults/linux-64::zlib==1.2.11=h7b6447c_3\n",
            "  - defaults/linux-64::yaml==0.1.7=had09818_2\n",
            "  - rdkit/linux-64::rdkit==2020.09.1.0=py37hd50e099_1\n",
            "  - defaults/linux-64::pip==20.0.2=py37_1\n",
            "  - defaults/noarch::packaging==21.3=pyhd3eb1b0_0\n",
            "  - defaults/linux-64::libuuid==1.0.3=h7f8727e_2\n",
            "  - defaults/linux-64::icu==58.2=he6710b0_3\n",
            "  - defaults/linux-64::numpy==1.21.2=py37h20f2e39_0\n",
            "  - defaults/linux-64::asn1crypto==1.3.0=py37_0\n",
            "  - defaults/linux-64::python==3.7.6=h0371630_2\n",
            "  - defaults/linux-64::xz==5.2.5=h7b6447c_0\n",
            "  - defaults/linux-64::pixman==0.40.0=h7f8727e_1\n",
            "  - defaults/linux-64::fontconfig==2.13.1=h6c09931_0\n",
            "  - defaults/linux-64::numexpr==2.8.1=py37h6abb31d_0\n",
            "  - defaults/linux-64::pandas==1.3.4=py37h8c16a72_0\n",
            "  - defaults/linux-64::py-boost==1.73.0=py37ha9443f7_11\n",
            "  - defaults/linux-64::libwebp==1.2.2=h55f646e_0\n",
            "  - defaults/linux-64::pillow==9.0.1=py37h22f2fdc_0\n",
            "  - defaults/linux-64::pcre==8.45=h295c915_0\n",
            "  - defaults/linux-64::libtiff==4.2.0=h85742a9_0\n",
            "  - defaults/linux-64::pyopenssl==19.1.0=py37_0\n",
            "  - defaults/linux-64::sqlite==3.31.1=h7b6447c_0\n",
            "  - defaults/linux-64::six==1.14.0=py37_0\n",
            "  - defaults/linux-64::libedit==3.1.20181209=hc058e9b_0\n",
            "  - defaults/linux-64::zstd==1.4.9=haebb681_0\n",
            "  - defaults/linux-64::cairo==1.16.0=hf32fb01_1\n",
            "  - defaults/linux-64::bzip2==1.0.8=h7b6447c_0\n",
            "  - defaults/noarch::python-dateutil==2.8.2=pyhd3eb1b0_0\n",
            "  - defaults/linux-64::certifi==2021.10.8=py37h06a4308_2\n",
            "  - defaults/linux-64::libpng==1.6.37=hbc83047_0\n",
            "  - defaults/linux-64::idna==2.8=py37_0\n",
            "  - defaults/linux-64::mkl_fft==1.3.1=py37hd3c417c_0\n",
            "  - defaults/linux-64::pysocks==1.7.1=py37_0\n",
            "  - defaults/linux-64::libwebp-base==1.2.2=h7f8727e_0\n",
            "  - defaults/linux-64::bottleneck==1.3.4=py37hce1f21e_0\n",
            "  - defaults/noarch::pyparsing==3.0.4=pyhd3eb1b0_0\n",
            "  - defaults/linux-64::mkl_random==1.2.2=py37h51133e4_0\n",
            "  - defaults/linux-64::mkl-service==2.4.0=py37h7f8727e_0\n",
            "  - defaults/linux-64::requests==2.22.0=py37_1\n",
            "  - defaults/linux-64::lcms2==2.12=h3be6417_0\n",
            "  - defaults/linux-64::pycparser==2.19=py37_0\n",
            "  - defaults/linux-64::ruamel_yaml==0.15.87=py37h7b6447c_0\n",
            "  - defaults/linux-64::libgcc-ng==9.3.0=h5101ec6_17\n",
            "  - defaults/linux-64::openssl==1.1.1n=h7f8727e_0\n",
            "  - defaults/linux-64::cryptography==2.8=py37h1ba5d50_0\n",
            "  - defaults/linux-64::ncurses==6.2=he6710b0_0\n",
            "  - defaults/noarch::pytz==2021.3=pyhd3eb1b0_0\n",
            "  - defaults/linux-64::readline==7.0=h7b6447c_5\n",
            "  - defaults/linux-64::wheel==0.34.2=py37_0\n",
            "\b\b- \b\b\\ \b\b| \b\b/ \b\b- \b\b\\ \b\b| \b\b/ \b\b- \b\b\\ \b\bdone\n",
            "\n",
            "## Package Plan ##\n",
            "\n",
            "  environment location: /usr/local\n",
            "\n",
            "  added / updated specs:\n",
            "    - _libgcc_mutex==0.1=main\n",
            "    - asn1crypto==1.3.0=py37_0\n",
            "    - ca-certificates==2020.1.1=0\n",
            "    - certifi==2019.11.28=py37_0\n",
            "    - cffi==1.14.0=py37h2e261b9_0\n",
            "    - chardet==3.0.4=py37_1003\n",
            "    - conda-package-handling==1.6.0=py37h7b6447c_0\n",
            "    - conda==4.8.2=py37_0\n",
            "    - cryptography==2.8=py37h1ba5d50_0\n",
            "    - idna==2.8=py37_0\n",
            "    - ld_impl_linux-64==2.33.1=h53a641e_7\n",
            "    - libedit==3.1.20181209=hc058e9b_0\n",
            "    - libffi==3.2.1=hd88cf55_4\n",
            "    - libgcc-ng==9.1.0=hdf63c60_0\n",
            "    - libstdcxx-ng==9.1.0=hdf63c60_0\n",
            "    - ncurses==6.2=he6710b0_0\n",
            "    - openssl==1.1.1d=h7b6447c_4\n",
            "    - pip==20.0.2=py37_1\n",
            "    - pycosat==0.6.3=py37h7b6447c_0\n",
            "    - pycparser==2.19=py37_0\n",
            "    - pyopenssl==19.1.0=py37_0\n",
            "    - pysocks==1.7.1=py37_0\n",
            "    - python==3.7.6=h0371630_2\n",
            "    - readline==7.0=h7b6447c_5\n",
            "    - requests==2.22.0=py37_1\n",
            "    - ruamel_yaml==0.15.87=py37h7b6447c_0\n",
            "    - setuptools==45.2.0=py37_0\n",
            "    - six==1.14.0=py37_0\n",
            "    - sqlite==3.31.1=h7b6447c_0\n",
            "    - tk==8.6.8=hbc83047_0\n",
            "    - tqdm==4.42.1=py_0\n",
            "    - urllib3==1.25.8=py37_0\n",
            "    - wheel==0.34.2=py37_0\n",
            "    - xz==5.2.4=h14c3975_4\n",
            "    - yaml==0.1.7=had09818_2\n",
            "    - zlib==1.2.11=h7b6447c_3\n",
            "\n",
            "\n",
            "The following packages will be DOWNGRADED:\n",
            "\n",
            "  ca-certificates                      2022.3.29-h06a4308_0 --> 2020.1.1-0\n",
            "\n",
            "\n",
            "Preparing transaction: / \b\bdone\n",
            "Executing transaction: \\ \b\bdone\n",
            "installation finished.\n",
            "WARNING:\n",
            "    You currently have a PYTHONPATH environment variable set. This may cause\n",
            "    unexpected behavior when running the Python interpreter in Miniconda3.\n",
            "    For best results, please verify that your PYTHONPATH only points to\n",
            "    directories of packages that are compatible with the Python interpreter\n",
            "    in Miniconda3: /usr/local\n",
            "Collecting package metadata (current_repodata.json): - \b\b\\ \b\b| \b\b/ \b\b- \b\b\\ \b\b| \b\b/ \b\b- \b\b\\ \b\bdone\n",
            "Solving environment: / \b\b- \b\b\\ \b\b| \b\b/ \b\b- \b\b\\ \b\b| \b\b/ \b\b- \b\b\\ \b\b| \b\b/ \b\b- \b\bdone\n",
            "\n",
            "## Package Plan ##\n",
            "\n",
            "  environment location: /usr/local\n",
            "\n",
            "  added / updated specs:\n",
            "    - rdkit\n",
            "\n",
            "\n",
            "The following packages will be UPDATED:\n",
            "\n",
            "  ca-certificates                                2020.1.1-0 --> 2022.3.29-h06a4308_0\n",
            "\n",
            "\n",
            "Preparing transaction: | \b\bdone\n",
            "Verifying transaction: - \b\bdone\n",
            "Executing transaction: | \b\bdone\n",
            "ERROR: unknown command \"insatll\" - maybe you meant \"install\"\n",
            "Requirement already satisfied: sklearn in /usr/local/lib/python3.7/site-packages (0.0)\n",
            "Requirement already satisfied: scikit-learn in /usr/local/lib/python3.7/site-packages (from sklearn) (1.0.2)\n",
            "Requirement already satisfied: joblib>=0.11 in /usr/local/lib/python3.7/site-packages (from scikit-learn->sklearn) (1.1.0)\n",
            "Requirement already satisfied: scipy>=1.1.0 in /usr/local/lib/python3.7/site-packages (from scikit-learn->sklearn) (1.7.3)\n",
            "Requirement already satisfied: numpy>=1.14.6 in /usr/local/lib/python3.7/site-packages (from scikit-learn->sklearn) (1.21.2)\n",
            "Requirement already satisfied: threadpoolctl>=2.0.0 in /usr/local/lib/python3.7/site-packages (from scikit-learn->sklearn) (3.1.0)\n",
            "Requirement already satisfied: pandas in /usr/local/lib/python3.7/site-packages (1.3.4)\n",
            "Requirement already satisfied: python-dateutil>=2.7.3 in /usr/local/lib/python3.7/site-packages (from pandas) (2.8.2)\n",
            "Requirement already satisfied: pytz>=2017.3 in /usr/local/lib/python3.7/site-packages (from pandas) (2021.3)\n",
            "Requirement already satisfied: numpy>=1.17.3 in /usr/local/lib/python3.7/site-packages (from pandas) (1.21.2)\n",
            "Requirement already satisfied: six>=1.5 in /usr/local/lib/python3.7/site-packages (from python-dateutil>=2.7.3->pandas) (1.14.0)\n"
          ]
        }
      ],
      "source": [
        "! wget https://repo.anaconda.com/miniconda/Miniconda3-py37_4.8.2-Linux-x86_64.sh\n",
        "! chmod +x Miniconda3-py37_4.8.2-Linux-x86_64.sh\n",
        "! bash ./Miniconda3-py37_4.8.2-Linux-x86_64.sh -b -f -p /usr/local\n",
        "import sys\n",
        "sys.path.append('/usr/local/lib/python3.7/site-packages/')\n",
        "! conda install -c rdkit rdkit -y\n",
        "\n",
        "! pip insatll pytorch\n",
        "! pip install sklearn\n",
        "! pip install pandas"
      ]
    },
    {
      "cell_type": "markdown",
      "source": [
        "## 方法：sklearn"
      ],
      "metadata": {
        "id": "HeqKRz6s_F6E"
      }
    },
    {
      "cell_type": "markdown",
      "metadata": {
        "id": "sX-icLtBWdeM"
      },
      "source": [
        "Ref: https://michael-fuchs-python.netlify.app/2021/02/10/nn-multi-layer-perceptron-regressor-mlpregressor/"
      ]
    },
    {
      "cell_type": "code",
      "execution_count": 22,
      "metadata": {
        "id": "tyE66jYuF37g"
      },
      "outputs": [],
      "source": [
        "import pandas as pd\n",
        "import numpy as np\n",
        "import matplotlib.pyplot as plt\n",
        "from sklearn.model_selection import train_test_split\n",
        "from sklearn.preprocessing import StandardScaler\n",
        "from sklearn.neural_network import MLPRegressor\n",
        "from sklearn import metrics\n",
        "from sklearn.model_selection import GridSearchCV\n",
        "from sklearn.metrics import make_scorer, mean_absolute_error, mean_squared_error, r2_score, mean_absolute_percentage_error\n",
        "\n",
        "from rdkit import Chem\n",
        "from rdkit.Chem import AllChem\n",
        "from rdkit.Chem import MACCSkeys\n"
      ]
    },
    {
      "cell_type": "markdown",
      "source": [
        "1. 获取数据"
      ],
      "metadata": {
        "id": "H3uS9fpo_T2V"
      }
    },
    {
      "cell_type": "code",
      "execution_count": 23,
      "metadata": {
        "id": "dBZCp4UKNrB3"
      },
      "outputs": [],
      "source": [
        "data = pd.read_csv('chembl_acetylcholinesterase_bioactivity_data_processed.csv')\n",
        "train_x, test_x, train_y, test_y = train_test_split(data['canonical_smiles'], data['pIC50'], test_size=0.2, random_state=1)"
      ]
    },
    {
      "cell_type": "markdown",
      "source": [
        "2. 提取特征"
      ],
      "metadata": {
        "id": "Yk43D8z0_YHJ"
      }
    },
    {
      "cell_type": "code",
      "execution_count": 24,
      "metadata": {
        "id": "0qmXD1lrNq92"
      },
      "outputs": [],
      "source": [
        "train_mols = [Chem.MolFromSmiles(smi) for smi in train_x]\n",
        "\n",
        "train_morgan_fps = [AllChem.GetMorganFingerprintAsBitVect(mol, 2, 2048) for mol in train_mols]\n",
        "train_morgan_fps_array = np.asarray(train_morgan_fps, dtype=float)\n",
        "train_maccs_fps = [MACCSkeys.GenMACCSKeys(mol) for mol in train_mols]\n",
        "train_maccs_fps_array = np.asarray(train_maccs_fps, dtype=float)\n",
        "train_fps_array = np.concatenate([train_morgan_fps_array, train_maccs_fps_array],axis=1)"
      ]
    },
    {
      "cell_type": "code",
      "execution_count": 26,
      "metadata": {
        "id": "i4j7FvKdF31t"
      },
      "outputs": [],
      "source": [
        "test_mols = [Chem.MolFromSmiles(smi) for smi in test_x]\n",
        "\n",
        "test_morgan_fps = [AllChem.GetMorganFingerprintAsBitVect(mol, 2, 2048) for mol in test_mols]\n",
        "test_morgan_fps_array = np.asarray(test_morgan_fps, dtype=float)\n",
        "test_maccs_fps = [MACCSkeys.GenMACCSKeys(mol) for mol in test_mols]\n",
        "test_maccs_fps_array = np.asarray(test_maccs_fps, dtype=float)\n",
        "test_fps_array = np.concatenate([test_morgan_fps_array, test_maccs_fps_array],axis=1) \n"
      ]
    },
    {
      "cell_type": "markdown",
      "source": [
        "3. 建立模型"
      ],
      "metadata": {
        "id": "858vZKJV_eD2"
      }
    },
    {
      "cell_type": "code",
      "execution_count": 27,
      "metadata": {
        "colab": {
          "base_uri": "https://localhost:8080/"
        },
        "id": "6otw4WCZRNPe",
        "outputId": "8063911e-81f4-40a6-dd84-2944dbd58d83"
      },
      "outputs": [
        {
          "output_type": "stream",
          "name": "stdout",
          "text": [
            "{'activation': 'relu', 'alpha': 0.05, 'hidden_layer_sizes': (524, 20, 10), 'learning_rate': 'adaptive', 'max_iter': 100, 'solver': 'adam'}\n"
          ]
        },
        {
          "output_type": "stream",
          "name": "stderr",
          "text": [
            "/usr/local/lib/python3.7/dist-packages/sklearn/neural_network/_multilayer_perceptron.py:696: ConvergenceWarning: Stochastic Optimizer: Maximum iterations (100) reached and the optimization hasn't converged yet.\n",
            "  ConvergenceWarning,\n"
          ]
        }
      ],
      "source": [
        "param_grid = {\n",
        "    'hidden_layer_sizes': [(150,100,50), (524, 20, 10)],\n",
        "    'max_iter': [50, 100],\n",
        "    'activation': ['relu'],\n",
        "    'solver': ['adam'],\n",
        "    'alpha': [0.0001, 0.01, 0.05],\n",
        "    'learning_rate': ['constant','adaptive'],\n",
        "}\n",
        "\n",
        "grid = GridSearchCV(mlp_reg, param_grid, n_jobs= -1, cv=5)\n",
        "grid.fit(train_fps_array, train_y)\n",
        "\n",
        "print(grid.best_params_) "
      ]
    },
    {
      "cell_type": "markdown",
      "source": [
        "4. 模型评估"
      ],
      "metadata": {
        "id": "NB0G40FR_h7J"
      }
    },
    {
      "cell_type": "code",
      "execution_count": 28,
      "metadata": {
        "id": "izqVlGeMRNK9"
      },
      "outputs": [],
      "source": [
        "mlp_reg_model = grid.best_estimator_\n",
        "score_dict = {'mse':make_scorer(mean_squared_error),'mae':make_scorer(mean_absolute_error),'mape':make_scorer(mean_absolute_percentage_error),'r2':make_scorer(r2_score)}\n",
        "# cross validation\n",
        "mlp_reg_cv = cross_validate(mlp_reg_model,train_fps_array,train_y,cv = 5,n_jobs = 10,scoring = score_dict,return_train_score = True)\n",
        "mlp_reg_cv_train_mae = np.mean(mlp_reg_cv['train_mae'])\n",
        "mlp_reg_cv_train_mse = np.mean(mlp_reg_cv['train_mse'])\n",
        "mlp_reg_cv_train_mape = np.mean(mlp_reg_cv['train_mape'])\n",
        "mlp_reg_cv_train_r2 = np.mean(mlp_reg_cv['train_r2'])\n",
        "mlp_reg_cv_test_mae = np.mean(mlp_reg_cv['test_mae'])\n",
        "mlp_reg_cv_test_mse = np.mean(mlp_reg_cv['test_mse'])\n",
        "mlp_reg_cv_test_mape = np.mean(mlp_reg_cv['test_mape'])\n",
        "mlp_reg_cv_test_r2 = np.mean(mlp_reg_cv['test_r2'])\n",
        "# external test\n",
        "mlp_reg_ext_pred = mlp_reg_model.predict(test_fps_array)\n",
        "mlp_reg_ext_mae = mean_absolute_error(test_y, mlp_reg_ext_pred)\n",
        "mlp_reg_ext_mse = mean_squared_error(test_y, mlp_reg_ext_pred)\n",
        "mlp_reg_ext_mape = mean_absolute_percentage_error(test_y, mlp_reg_ext_pred)\n",
        "mlp_reg_ext_r2 = r2_score(test_y, mlp_reg_ext_pred)\n",
        "\n",
        "mlp_reg_perf = {'mae':[mlp_reg_cv_train_mae, mlp_reg_cv_test_mae, mlp_reg_ext_mae],\n",
        "            'mse':[mlp_reg_cv_train_mse, mlp_reg_cv_test_mse, mlp_reg_ext_mse],\n",
        "            'mape':[mlp_reg_cv_train_mape, mlp_reg_cv_test_mape, mlp_reg_ext_mape],\n",
        "            'r2':[mlp_reg_cv_train_r2, mlp_reg_cv_test_r2, mlp_reg_ext_r2]}\n",
        "\n",
        "mlp_reg_perf_df = pd.DataFrame.from_dict(mlp_reg_perf)\n",
        "mlp_reg_perf_df.index = ['train','cv', 'ext']"
      ]
    },
    {
      "cell_type": "code",
      "execution_count": 29,
      "metadata": {
        "id": "z_Z6MHB_RNIP",
        "colab": {
          "base_uri": "https://localhost:8080/",
          "height": 143
        },
        "outputId": "1bfbee52-a533-4de3-913c-a6e4240f39bb"
      },
      "outputs": [
        {
          "output_type": "execute_result",
          "data": {
            "text/plain": [
              "            mae       mse      mape        r2\n",
              "train  0.163328  0.068855  0.028534  0.965939\n",
              "cv     0.591493  0.660539  0.108280  0.673883\n",
              "ext    0.555335  0.702841  0.101058  0.633160"
            ],
            "text/html": [
              "\n",
              "  <div id=\"df-429867e0-3b5f-4789-8c31-b5d8c5e78571\">\n",
              "    <div class=\"colab-df-container\">\n",
              "      <div>\n",
              "<style scoped>\n",
              "    .dataframe tbody tr th:only-of-type {\n",
              "        vertical-align: middle;\n",
              "    }\n",
              "\n",
              "    .dataframe tbody tr th {\n",
              "        vertical-align: top;\n",
              "    }\n",
              "\n",
              "    .dataframe thead th {\n",
              "        text-align: right;\n",
              "    }\n",
              "</style>\n",
              "<table border=\"1\" class=\"dataframe\">\n",
              "  <thead>\n",
              "    <tr style=\"text-align: right;\">\n",
              "      <th></th>\n",
              "      <th>mae</th>\n",
              "      <th>mse</th>\n",
              "      <th>mape</th>\n",
              "      <th>r2</th>\n",
              "    </tr>\n",
              "  </thead>\n",
              "  <tbody>\n",
              "    <tr>\n",
              "      <th>train</th>\n",
              "      <td>0.163328</td>\n",
              "      <td>0.068855</td>\n",
              "      <td>0.028534</td>\n",
              "      <td>0.965939</td>\n",
              "    </tr>\n",
              "    <tr>\n",
              "      <th>cv</th>\n",
              "      <td>0.591493</td>\n",
              "      <td>0.660539</td>\n",
              "      <td>0.108280</td>\n",
              "      <td>0.673883</td>\n",
              "    </tr>\n",
              "    <tr>\n",
              "      <th>ext</th>\n",
              "      <td>0.555335</td>\n",
              "      <td>0.702841</td>\n",
              "      <td>0.101058</td>\n",
              "      <td>0.633160</td>\n",
              "    </tr>\n",
              "  </tbody>\n",
              "</table>\n",
              "</div>\n",
              "      <button class=\"colab-df-convert\" onclick=\"convertToInteractive('df-429867e0-3b5f-4789-8c31-b5d8c5e78571')\"\n",
              "              title=\"Convert this dataframe to an interactive table.\"\n",
              "              style=\"display:none;\">\n",
              "        \n",
              "  <svg xmlns=\"http://www.w3.org/2000/svg\" height=\"24px\"viewBox=\"0 0 24 24\"\n",
              "       width=\"24px\">\n",
              "    <path d=\"M0 0h24v24H0V0z\" fill=\"none\"/>\n",
              "    <path d=\"M18.56 5.44l.94 2.06.94-2.06 2.06-.94-2.06-.94-.94-2.06-.94 2.06-2.06.94zm-11 1L8.5 8.5l.94-2.06 2.06-.94-2.06-.94L8.5 2.5l-.94 2.06-2.06.94zm10 10l.94 2.06.94-2.06 2.06-.94-2.06-.94-.94-2.06-.94 2.06-2.06.94z\"/><path d=\"M17.41 7.96l-1.37-1.37c-.4-.4-.92-.59-1.43-.59-.52 0-1.04.2-1.43.59L10.3 9.45l-7.72 7.72c-.78.78-.78 2.05 0 2.83L4 21.41c.39.39.9.59 1.41.59.51 0 1.02-.2 1.41-.59l7.78-7.78 2.81-2.81c.8-.78.8-2.07 0-2.86zM5.41 20L4 18.59l7.72-7.72 1.47 1.35L5.41 20z\"/>\n",
              "  </svg>\n",
              "      </button>\n",
              "      \n",
              "  <style>\n",
              "    .colab-df-container {\n",
              "      display:flex;\n",
              "      flex-wrap:wrap;\n",
              "      gap: 12px;\n",
              "    }\n",
              "\n",
              "    .colab-df-convert {\n",
              "      background-color: #E8F0FE;\n",
              "      border: none;\n",
              "      border-radius: 50%;\n",
              "      cursor: pointer;\n",
              "      display: none;\n",
              "      fill: #1967D2;\n",
              "      height: 32px;\n",
              "      padding: 0 0 0 0;\n",
              "      width: 32px;\n",
              "    }\n",
              "\n",
              "    .colab-df-convert:hover {\n",
              "      background-color: #E2EBFA;\n",
              "      box-shadow: 0px 1px 2px rgba(60, 64, 67, 0.3), 0px 1px 3px 1px rgba(60, 64, 67, 0.15);\n",
              "      fill: #174EA6;\n",
              "    }\n",
              "\n",
              "    [theme=dark] .colab-df-convert {\n",
              "      background-color: #3B4455;\n",
              "      fill: #D2E3FC;\n",
              "    }\n",
              "\n",
              "    [theme=dark] .colab-df-convert:hover {\n",
              "      background-color: #434B5C;\n",
              "      box-shadow: 0px 1px 3px 1px rgba(0, 0, 0, 0.15);\n",
              "      filter: drop-shadow(0px 1px 2px rgba(0, 0, 0, 0.3));\n",
              "      fill: #FFFFFF;\n",
              "    }\n",
              "  </style>\n",
              "\n",
              "      <script>\n",
              "        const buttonEl =\n",
              "          document.querySelector('#df-429867e0-3b5f-4789-8c31-b5d8c5e78571 button.colab-df-convert');\n",
              "        buttonEl.style.display =\n",
              "          google.colab.kernel.accessAllowed ? 'block' : 'none';\n",
              "\n",
              "        async function convertToInteractive(key) {\n",
              "          const element = document.querySelector('#df-429867e0-3b5f-4789-8c31-b5d8c5e78571');\n",
              "          const dataTable =\n",
              "            await google.colab.kernel.invokeFunction('convertToInteractive',\n",
              "                                                     [key], {});\n",
              "          if (!dataTable) return;\n",
              "\n",
              "          const docLinkHtml = 'Like what you see? Visit the ' +\n",
              "            '<a target=\"_blank\" href=https://colab.research.google.com/notebooks/data_table.ipynb>data table notebook</a>'\n",
              "            + ' to learn more about interactive tables.';\n",
              "          element.innerHTML = '';\n",
              "          dataTable['output_type'] = 'display_data';\n",
              "          await google.colab.output.renderOutput(dataTable, element);\n",
              "          const docLink = document.createElement('div');\n",
              "          docLink.innerHTML = docLinkHtml;\n",
              "          element.appendChild(docLink);\n",
              "        }\n",
              "      </script>\n",
              "    </div>\n",
              "  </div>\n",
              "  "
            ]
          },
          "metadata": {},
          "execution_count": 29
        }
      ],
      "source": [
        "mlp_reg_perf_df"
      ]
    },
    {
      "cell_type": "markdown",
      "source": [
        "## End"
      ],
      "metadata": {
        "id": "3D7abPYiGZm7"
      }
    },
    {
      "cell_type": "code",
      "execution_count": null,
      "metadata": {
        "id": "98WicgvURNDq"
      },
      "outputs": [],
      "source": [
        ""
      ]
    }
  ],
  "metadata": {
    "colab": {
      "name": "2a_dti_prediction_ach_202204_MLP.ipynb",
      "provenance": []
    },
    "kernelspec": {
      "display_name": "Python 3",
      "name": "python3"
    },
    "language_info": {
      "name": "python"
    }
  },
  "nbformat": 4,
  "nbformat_minor": 0
}