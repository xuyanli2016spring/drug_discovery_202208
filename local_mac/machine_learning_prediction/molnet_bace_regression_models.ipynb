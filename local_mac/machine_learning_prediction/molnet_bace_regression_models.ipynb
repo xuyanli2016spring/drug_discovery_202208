{
 "cells": [
  {
   "cell_type": "code",
   "execution_count": 1,
   "metadata": {},
   "outputs": [],
   "source": [
    "import pandas as pd\n",
    "from rdkit import Chem\n",
    "from rdkit.Chem import AllChem\n",
    "import numpy as np\n",
    "import sklearn\n",
    "import xgboost as xgb\n",
    "from sklearn import svm\n",
    "from sklearn.ensemble import RandomForestRegressor\n",
    "from sklearn.neighbors import KNeighborsRegressor\n",
    "from sklearn.model_selection import GridSearchCV\n",
    "from sklearn.model_selection import cross_validate\n",
    "from sklearn.model_selection import train_test_split\n",
    "from sklearn.metrics import make_scorer\n",
    "from sklearn.metrics import mean_absolute_error\n",
    "from sklearn.metrics import mean_squared_error\n",
    "from sklearn.metrics import mean_absolute_percentage_error\n",
    "from sklearn.metrics import r2_score\n",
    "import pickle"
   ]
  },
  {
   "cell_type": "markdown",
   "metadata": {},
   "source": [
    "# read data"
   ]
  },
  {
   "cell_type": "code",
   "execution_count": 2,
   "metadata": {},
   "outputs": [],
   "source": [
    "file = pd.read_csv('/Users/yanlixu/Desktop/git_code/machine_learning_prediction/molnet_bace.csv')\n",
    "dataset = file[['mol', 'pIC50']]\n",
    "train_data_x, test_data_x, train_y, test_y = train_test_split(dataset['mol'], dataset['pIC50'], test_size = 0.2, random_state = 1 )\n"
   ]
  },
  {
   "cell_type": "code",
   "execution_count": 3,
   "metadata": {},
   "outputs": [
    {
     "data": {
      "text/plain": [
       "(1210, 303)"
      ]
     },
     "execution_count": 3,
     "metadata": {},
     "output_type": "execute_result"
    }
   ],
   "source": [
    "len(train_data_x), len(test_data_x)"
   ]
  },
  {
   "cell_type": "markdown",
   "metadata": {},
   "source": [
    "# calculate fingerPrint"
   ]
  },
  {
   "cell_type": "code",
   "execution_count": 4,
   "metadata": {},
   "outputs": [],
   "source": [
    "train_mols = [Chem.MolFromSmiles(smi) for smi in train_data_x] # RDKit Mol object\n",
    "train_fps = [Chem.AllChem.GetMorganFingerprintAsBitVect(mol, 4, 2048) for mol in train_mols]\n",
    "train_x = np.asarray(train_fps, dtype = float)\n",
    "\n",
    "test_mols = [Chem.MolFromSmiles(smi) for smi in test_data_x] # RDKit Mol object\n",
    "test_fps = [Chem.AllChem.GetMorganFingerprintAsBitVect(mol, 4, 2048) for mol in test_mols]\n",
    "test_x = np.asarray(test_fps, dtype = float)"
   ]
  },
  {
   "cell_type": "markdown",
   "metadata": {},
   "source": [
    "# Grid search"
   ]
  },
  {
   "cell_type": "code",
   "execution_count": 5,
   "metadata": {},
   "outputs": [],
   "source": [
    "# 1.参数字典\n",
    "xgb_param_grid = {'n_estimators':[10, 50, 100],\n",
    "                  'max_depth':[3, 6, 7, 8, 10]}\n",
    "\n",
    "\n",
    "svm_param_dict = {'C':[1, 2, 3, 4, 5],\n",
    "                  'kernel':['poly', 'rbf', 'sigmoid'],\n",
    "                  'epsilon':[0.1, 0.5, 1.0]}\n",
    "\n",
    "rf_param_dict = {'n_estimators':[50, 70, 100, 150, 200],\n",
    "                 'max_depth':[10, 50, 100],\n",
    "                 'max_features': [\"auto\",\"sqrt\",\"log2\"]}\n",
    "\n",
    "knn_param_dict = {'n_neighbors':[5, 10, 15, 20],\n",
    "                  'weights':['uniform', 'distance']}\n",
    "\n",
    "# 2.性能指标字典\n",
    "score_dict = {'mse':make_scorer(mean_squared_error),\n",
    "              'mae':make_scorer(mean_absolute_error),\n",
    "              'mape':make_scorer(mean_absolute_percentage_error),\n",
    "              'r2':make_scorer(r2_score)}"
   ]
  },
  {
   "cell_type": "code",
   "execution_count": 6,
   "metadata": {},
   "outputs": [],
   "source": [
    "# xgb model\n",
    "xgb_reg = xgb.XGBRegressor()\n",
    "xgb_gs = GridSearchCV(xgb_reg,\n",
    "                      xgb_param_grid,\n",
    "                      scoring = score_dict,\n",
    "                      cv = 5,\n",
    "                      refit = 'r2',\n",
    "                      return_train_score = True)\n",
    "\n",
    "# svm model\n",
    "svm_reg = svm.SVR()\n",
    "svm_gs = GridSearchCV(estimator = svm_reg,\n",
    "                      param_grid = svm_param_dict,\n",
    "                      scoring = score_dict,\n",
    "                      n_jobs = 10,\n",
    "                      cv = 10,\n",
    "                      refit = 'r2',\n",
    "                      return_train_score = True)\n",
    "# random forest model\n",
    "rf_reg = RandomForestRegressor()\n",
    "rf_gs = GridSearchCV(estimator = rf_reg,\n",
    "                     param_grid = rf_param_dict,\n",
    "                     scoring = score_dict,\n",
    "                     n_jobs = 10,\n",
    "                     cv = 5, \n",
    "                     refit = 'r2',\n",
    "                     return_train_score = True)\n",
    "\n",
    "# KNN\n",
    "knn_reg = KNeighborsRegressor()\n",
    "knn_gs = GridSearchCV(estimator = knn_reg,\n",
    "                      param_grid = knn_param_dict,\n",
    "                      scoring = score_dict,\n",
    "                      n_jobs = 10,\n",
    "                      cv = 10,\n",
    "                      refit = 'r2',\n",
    "                      return_train_score = True)"
   ]
  },
  {
   "cell_type": "code",
   "execution_count": 7,
   "metadata": {},
   "outputs": [],
   "source": [
    "# xgb\n",
    "xgb_gs_ecfp = xgb_gs.fit(train_x, train_y)\n",
    "xgb_model = xgb_gs_ecfp.best_estimator_\n",
    "# svm\n",
    "svm_gs_fit = svm_gs.fit(train_x, train_y)\n",
    "svm_model = svm_gs_fit.best_estimator_\n"
   ]
  },
  {
   "cell_type": "code",
   "execution_count": 8,
   "metadata": {},
   "outputs": [],
   "source": [
    "rf_gs_fit = rf_gs.fit(train_x, train_y)\n",
    "rf_best_model = rf_gs_fit.best_estimator_"
   ]
  },
  {
   "cell_type": "code",
   "execution_count": 9,
   "metadata": {},
   "outputs": [],
   "source": [
    "knn_gs_fit = knn_gs.fit(train_x, train_y)\n",
    "knn_model = knn_gs_fit.best_estimator_"
   ]
  },
  {
   "cell_type": "code",
   "execution_count": 10,
   "metadata": {},
   "outputs": [
    {
     "data": {
      "text/plain": [
       "XGBRegressor(base_score=0.5, booster='gbtree', colsample_bylevel=1,\n",
       "             colsample_bynode=1, colsample_bytree=1, enable_categorical=False,\n",
       "             gamma=0, gpu_id=-1, importance_type=None,\n",
       "             interaction_constraints='', learning_rate=0.300000012,\n",
       "             max_delta_step=0, max_depth=6, min_child_weight=1, missing=nan,\n",
       "             monotone_constraints='()', n_estimators=50, n_jobs=12,\n",
       "             num_parallel_tree=1, predictor='auto', random_state=0, reg_alpha=0,\n",
       "             reg_lambda=1, scale_pos_weight=1, subsample=1, tree_method='exact',\n",
       "             validate_parameters=1, verbosity=None)"
      ]
     },
     "execution_count": 10,
     "metadata": {},
     "output_type": "execute_result"
    }
   ],
   "source": [
    "xgb_model"
   ]
  },
  {
   "cell_type": "code",
   "execution_count": 11,
   "metadata": {},
   "outputs": [
    {
     "data": {
      "text/plain": [
       "SVR(C=3)"
      ]
     },
     "execution_count": 11,
     "metadata": {},
     "output_type": "execute_result"
    }
   ],
   "source": [
    "svm_model"
   ]
  },
  {
   "cell_type": "code",
   "execution_count": 12,
   "metadata": {},
   "outputs": [
    {
     "data": {
      "text/plain": [
       "RandomForestRegressor(max_depth=100, max_features='sqrt', n_estimators=200)"
      ]
     },
     "execution_count": 12,
     "metadata": {},
     "output_type": "execute_result"
    }
   ],
   "source": [
    "rf_best_model"
   ]
  },
  {
   "cell_type": "code",
   "execution_count": 13,
   "metadata": {},
   "outputs": [
    {
     "data": {
      "text/plain": [
       "{'algorithm': 'auto',\n",
       " 'leaf_size': 30,\n",
       " 'metric': 'minkowski',\n",
       " 'metric_params': None,\n",
       " 'n_jobs': None,\n",
       " 'n_neighbors': 5,\n",
       " 'p': 2,\n",
       " 'weights': 'uniform'}"
      ]
     },
     "execution_count": 13,
     "metadata": {},
     "output_type": "execute_result"
    }
   ],
   "source": [
    "knn_model.get_params()"
   ]
  },
  {
   "cell_type": "markdown",
   "metadata": {},
   "source": [
    "# Cross Validation of XGBoost, SVM"
   ]
  },
  {
   "cell_type": "code",
   "execution_count": 14,
   "metadata": {},
   "outputs": [],
   "source": [
    "xgb_cv = cross_validate(xgb_model,\n",
    "                        train_x,\n",
    "                        train_y,\n",
    "                        cv = 5,\n",
    "                        n_jobs = 10,\n",
    "                        scoring = score_dict,\n",
    "                        return_train_score = True)\n",
    "\n",
    "xgb_cv_train_mae = np.mean(xgb_cv['train_mae'])\n",
    "xgb_cv_train_mse = np.mean(xgb_cv['train_mse'])\n",
    "xgb_cv_train_mape = np.mean(xgb_cv['train_mape'])\n",
    "xgb_cv_train_r2 = np.mean(xgb_cv['train_r2'])\n",
    "\n",
    "xgb_cv_test_mae = np.mean(xgb_cv['test_mae'])\n",
    "xgb_cv_test_mse = np.mean(xgb_cv['test_mse'])\n",
    "xgb_cv_test_mape = np.mean(xgb_cv['test_mape'])\n",
    "xgb_cv_test_r2 = np.mean(xgb_cv['test_r2'])"
   ]
  },
  {
   "cell_type": "code",
   "execution_count": 15,
   "metadata": {},
   "outputs": [],
   "source": [
    "svm_best_cv = cross_validate(estimator = svm_model,\n",
    "                             X = train_x,\n",
    "                             y = train_y,\n",
    "                             scoring = score_dict,\n",
    "                             cv = 5,\n",
    "                             n_jobs = 10,\n",
    "                             return_train_score = True)\n",
    "\n",
    "svm_cv_train_mae = np.mean(svm_best_cv['train_mae'])\n",
    "svm_cv_train_mse = np.mean(svm_best_cv['train_mse'])\n",
    "svm_cv_train_mape = np.mean(svm_best_cv['train_mape'])\n",
    "svm_cv_train_r2 = np.mean(svm_best_cv['train_r2'])\n",
    "\n",
    "svm_cv_test_mae = np.mean(svm_best_cv['test_mae'])\n",
    "svm_cv_test_mse = np.mean(svm_best_cv['test_mse'])\n",
    "svm_cv_test_mape = np.mean(svm_best_cv['test_mape'])\n",
    "svm_cv_test_r2 = np.mean(svm_best_cv['test_r2'])"
   ]
  },
  {
   "cell_type": "code",
   "execution_count": 16,
   "metadata": {},
   "outputs": [],
   "source": [
    "rf_best_cv = cross_validate(estimator = rf_best_model,\n",
    "                            X = train_x,\n",
    "                            y = train_y,\n",
    "                            scoring = score_dict,\n",
    "                            cv = 5,\n",
    "                            n_jobs = 10,\n",
    "                            return_train_score = True)\n",
    "\n",
    "rf_cv_train_mae = np.mean(rf_best_cv['train_mae'])\n",
    "rf_cv_train_mse = np.mean(rf_best_cv['train_mse'])\n",
    "rf_cv_train_mape = np.mean(rf_best_cv['train_mape'])\n",
    "rf_cv_train_r2 = np.mean(rf_best_cv['train_r2'])\n",
    "\n",
    "rf_cv_test_mae = np.mean(rf_best_cv['test_mae'])\n",
    "rf_cv_test_mse = np.mean(rf_best_cv['test_mse'])\n",
    "rf_cv_test_mape = np.mean(rf_best_cv['test_mape'])\n",
    "rf_cv_test_r2 = np.mean(rf_best_cv['test_r2'])"
   ]
  },
  {
   "cell_type": "code",
   "execution_count": 17,
   "metadata": {},
   "outputs": [],
   "source": [
    "knn_best_cv = cross_validate(estimator = knn_model,\n",
    "                             X = train_x,\n",
    "                             y = train_y,\n",
    "                             scoring = score_dict,\n",
    "                             cv = 5,\n",
    "                             n_jobs = 10,\n",
    "                             return_train_score = True)\n",
    "\n",
    "knn_cv_train_mae = np.mean(knn_best_cv['train_mae'])\n",
    "knn_cv_train_mse = np.mean(knn_best_cv['train_mse'])\n",
    "knn_cv_train_mape = np.mean(knn_best_cv['train_mape'])\n",
    "knn_cv_train_r2 = np.mean(knn_best_cv['train_r2'])\n",
    "\n",
    "knn_cv_test_mae = np.mean(knn_best_cv['test_mae'])\n",
    "knn_cv_test_mse = np.mean(knn_best_cv['test_mse'])\n",
    "knn_cv_test_mape = np.mean(knn_best_cv['test_mape'])\n",
    "knn_cv_test_r2 = np.mean(knn_best_cv['test_r2'])"
   ]
  },
  {
   "cell_type": "markdown",
   "metadata": {},
   "source": [
    "# external test"
   ]
  },
  {
   "cell_type": "code",
   "execution_count": 18,
   "metadata": {},
   "outputs": [
    {
     "data": {
      "text/html": [
       "<div>\n",
       "<style scoped>\n",
       "    .dataframe tbody tr th:only-of-type {\n",
       "        vertical-align: middle;\n",
       "    }\n",
       "\n",
       "    .dataframe tbody tr th {\n",
       "        vertical-align: top;\n",
       "    }\n",
       "\n",
       "    .dataframe thead th {\n",
       "        text-align: right;\n",
       "    }\n",
       "</style>\n",
       "<table border=\"1\" class=\"dataframe\">\n",
       "  <thead>\n",
       "    <tr style=\"text-align: right;\">\n",
       "      <th></th>\n",
       "      <th>mol</th>\n",
       "      <th>true_pIC50</th>\n",
       "      <th>xgb_test_pIC50</th>\n",
       "      <th>svm_test_pIC50</th>\n",
       "      <th>rf_test_pIC50</th>\n",
       "      <th>knn_test_pIC50</th>\n",
       "    </tr>\n",
       "  </thead>\n",
       "  <tbody>\n",
       "    <tr>\n",
       "      <th>0</th>\n",
       "      <td>S1(=O)(=O)N(CCCC1)c1cc(cc(c1)/C(=N\\OCc1ccccc1)...</td>\n",
       "      <td>7.508638</td>\n",
       "      <td>7.363010</td>\n",
       "      <td>7.198399</td>\n",
       "      <td>7.341457</td>\n",
       "      <td>7.125901</td>\n",
       "    </tr>\n",
       "    <tr>\n",
       "      <th>1</th>\n",
       "      <td>Clc1cc2CC(N=C(NC(Cc3cscc3-c3cn[nH]c3)C(=O)[O-]...</td>\n",
       "      <td>6.346787</td>\n",
       "      <td>6.471633</td>\n",
       "      <td>6.356097</td>\n",
       "      <td>6.227854</td>\n",
       "      <td>6.060866</td>\n",
       "    </tr>\n",
       "    <tr>\n",
       "      <th>2</th>\n",
       "      <td>Clc1cc2CC(N=C(NC(Cc3cscc3CCC3CC3)C(=O)[O-])c2c...</td>\n",
       "      <td>6.244125</td>\n",
       "      <td>6.008316</td>\n",
       "      <td>6.222500</td>\n",
       "      <td>6.090137</td>\n",
       "      <td>6.267117</td>\n",
       "    </tr>\n",
       "    <tr>\n",
       "      <th>3</th>\n",
       "      <td>FC(F)(F)c1cc(ccc1)C[NH2+]CC(O)C(NC(=O)c1cc(N2C...</td>\n",
       "      <td>7.552842</td>\n",
       "      <td>7.298934</td>\n",
       "      <td>7.553792</td>\n",
       "      <td>7.484408</td>\n",
       "      <td>7.417836</td>\n",
       "    </tr>\n",
       "    <tr>\n",
       "      <th>4</th>\n",
       "      <td>Fc1cc(cc(F)c1)CC(NC(=O)C)C(O)C[NH2+]C1(CCCCC1)...</td>\n",
       "      <td>5.801343</td>\n",
       "      <td>4.711882</td>\n",
       "      <td>5.575482</td>\n",
       "      <td>5.647281</td>\n",
       "      <td>4.777851</td>\n",
       "    </tr>\n",
       "    <tr>\n",
       "      <th>...</th>\n",
       "      <td>...</td>\n",
       "      <td>...</td>\n",
       "      <td>...</td>\n",
       "      <td>...</td>\n",
       "      <td>...</td>\n",
       "      <td>...</td>\n",
       "    </tr>\n",
       "    <tr>\n",
       "      <th>298</th>\n",
       "      <td>OC(C(NC(=O)c1cc(N(C(=O)C)c2ccccc2)ccc1)Cc1cccc...</td>\n",
       "      <td>5.886056</td>\n",
       "      <td>6.891860</td>\n",
       "      <td>6.404833</td>\n",
       "      <td>6.616499</td>\n",
       "      <td>6.361417</td>\n",
       "    </tr>\n",
       "    <tr>\n",
       "      <th>299</th>\n",
       "      <td>S(=O)(=O)(N(Cc1ccccc1)c1cc(ccc1)C(=O)NC(Cc1ccc...</td>\n",
       "      <td>6.744728</td>\n",
       "      <td>7.374022</td>\n",
       "      <td>6.404952</td>\n",
       "      <td>6.722379</td>\n",
       "      <td>6.870230</td>\n",
       "    </tr>\n",
       "    <tr>\n",
       "      <th>300</th>\n",
       "      <td>FCCCCC#Cc1cc(ccc1)[C@]1(N=C(N)N(C)C1=O)c1ccc(O...</td>\n",
       "      <td>7.397940</td>\n",
       "      <td>7.690667</td>\n",
       "      <td>7.750289</td>\n",
       "      <td>7.739008</td>\n",
       "      <td>7.844370</td>\n",
       "    </tr>\n",
       "    <tr>\n",
       "      <th>301</th>\n",
       "      <td>Clc1cc2nc(n(c2cc1)C(CC(C)C)CC(=O)NC(C)C)N</td>\n",
       "      <td>3.609065</td>\n",
       "      <td>3.812004</td>\n",
       "      <td>3.734805</td>\n",
       "      <td>3.996534</td>\n",
       "      <td>3.848633</td>\n",
       "    </tr>\n",
       "    <tr>\n",
       "      <th>302</th>\n",
       "      <td>Fc1cc(cc(F)c1)CC(NC(=O)C(N1CCC(CCCC)C1=O)C)C(O...</td>\n",
       "      <td>7.221849</td>\n",
       "      <td>6.664429</td>\n",
       "      <td>6.736844</td>\n",
       "      <td>6.888985</td>\n",
       "      <td>7.051621</td>\n",
       "    </tr>\n",
       "  </tbody>\n",
       "</table>\n",
       "<p>303 rows × 6 columns</p>\n",
       "</div>"
      ],
      "text/plain": [
       "                                                   mol  true_pIC50  \\\n",
       "0    S1(=O)(=O)N(CCCC1)c1cc(cc(c1)/C(=N\\OCc1ccccc1)...    7.508638   \n",
       "1    Clc1cc2CC(N=C(NC(Cc3cscc3-c3cn[nH]c3)C(=O)[O-]...    6.346787   \n",
       "2    Clc1cc2CC(N=C(NC(Cc3cscc3CCC3CC3)C(=O)[O-])c2c...    6.244125   \n",
       "3    FC(F)(F)c1cc(ccc1)C[NH2+]CC(O)C(NC(=O)c1cc(N2C...    7.552842   \n",
       "4    Fc1cc(cc(F)c1)CC(NC(=O)C)C(O)C[NH2+]C1(CCCCC1)...    5.801343   \n",
       "..                                                 ...         ...   \n",
       "298  OC(C(NC(=O)c1cc(N(C(=O)C)c2ccccc2)ccc1)Cc1cccc...    5.886056   \n",
       "299  S(=O)(=O)(N(Cc1ccccc1)c1cc(ccc1)C(=O)NC(Cc1ccc...    6.744728   \n",
       "300  FCCCCC#Cc1cc(ccc1)[C@]1(N=C(N)N(C)C1=O)c1ccc(O...    7.397940   \n",
       "301          Clc1cc2nc(n(c2cc1)C(CC(C)C)CC(=O)NC(C)C)N    3.609065   \n",
       "302  Fc1cc(cc(F)c1)CC(NC(=O)C(N1CCC(CCCC)C1=O)C)C(O...    7.221849   \n",
       "\n",
       "     xgb_test_pIC50  svm_test_pIC50  rf_test_pIC50  knn_test_pIC50  \n",
       "0          7.363010        7.198399       7.341457        7.125901  \n",
       "1          6.471633        6.356097       6.227854        6.060866  \n",
       "2          6.008316        6.222500       6.090137        6.267117  \n",
       "3          7.298934        7.553792       7.484408        7.417836  \n",
       "4          4.711882        5.575482       5.647281        4.777851  \n",
       "..              ...             ...            ...             ...  \n",
       "298        6.891860        6.404833       6.616499        6.361417  \n",
       "299        7.374022        6.404952       6.722379        6.870230  \n",
       "300        7.690667        7.750289       7.739008        7.844370  \n",
       "301        3.812004        3.734805       3.996534        3.848633  \n",
       "302        6.664429        6.736844       6.888985        7.051621  \n",
       "\n",
       "[303 rows x 6 columns]"
      ]
     },
     "execution_count": 18,
     "metadata": {},
     "output_type": "execute_result"
    }
   ],
   "source": [
    "xgb_ext_pred = xgb_model.predict(test_x)\n",
    "svm_ext_pred = svm_model.predict(test_x)\n",
    "rf_ext_pred = rf_best_model.predict(test_x)\n",
    "knn_ext_pred = knn_model.predict(test_x)\n",
    "\n",
    "ext_test_df =  pd.DataFrame({'mol':test_data_x.tolist(),\n",
    "                            'true_pIC50':test_y.tolist(),\n",
    "                            'xgb_test_pIC50':xgb_ext_pred,\n",
    "                            'svm_test_pIC50':svm_ext_pred,\n",
    "                            'rf_test_pIC50':rf_ext_pred,\n",
    "                            'knn_test_pIC50':knn_ext_pred})\n",
    "ext_test_df"
   ]
  },
  {
   "cell_type": "code",
   "execution_count": 19,
   "metadata": {},
   "outputs": [],
   "source": [
    "ext_test_df.to_csv('molnet_bace_regression_models_prediction_results.csv')"
   ]
  },
  {
   "cell_type": "markdown",
   "metadata": {},
   "source": [
    "# final results summary"
   ]
  },
  {
   "cell_type": "code",
   "execution_count": 26,
   "metadata": {},
   "outputs": [
    {
     "data": {
      "text/html": [
       "<div>\n",
       "<style scoped>\n",
       "    .dataframe tbody tr th:only-of-type {\n",
       "        vertical-align: middle;\n",
       "    }\n",
       "\n",
       "    .dataframe tbody tr th {\n",
       "        vertical-align: top;\n",
       "    }\n",
       "\n",
       "    .dataframe thead th {\n",
       "        text-align: right;\n",
       "    }\n",
       "</style>\n",
       "<table border=\"1\" class=\"dataframe\">\n",
       "  <thead>\n",
       "    <tr style=\"text-align: right;\">\n",
       "      <th></th>\n",
       "      <th>mae</th>\n",
       "      <th>mse</th>\n",
       "      <th>mape</th>\n",
       "      <th>r2</th>\n",
       "    </tr>\n",
       "  </thead>\n",
       "  <tbody>\n",
       "    <tr>\n",
       "      <th>train</th>\n",
       "      <td>0.19</td>\n",
       "      <td>0.07</td>\n",
       "      <td>0.03</td>\n",
       "      <td>0.96</td>\n",
       "    </tr>\n",
       "    <tr>\n",
       "      <th>cv</th>\n",
       "      <td>0.59</td>\n",
       "      <td>0.62</td>\n",
       "      <td>0.10</td>\n",
       "      <td>0.66</td>\n",
       "    </tr>\n",
       "    <tr>\n",
       "      <th>ext</th>\n",
       "      <td>0.56</td>\n",
       "      <td>0.59</td>\n",
       "      <td>0.09</td>\n",
       "      <td>0.65</td>\n",
       "    </tr>\n",
       "  </tbody>\n",
       "</table>\n",
       "</div>"
      ],
      "text/plain": [
       "        mae   mse  mape    r2\n",
       "train  0.19  0.07  0.03  0.96\n",
       "cv     0.59  0.62  0.10  0.66\n",
       "ext    0.56  0.59  0.09  0.65"
      ]
     },
     "execution_count": 26,
     "metadata": {},
     "output_type": "execute_result"
    }
   ],
   "source": [
    "xgb_ext_mae = mean_absolute_error(test_y, xgb_ext_pred)\n",
    "xgb_ext_mse = mean_squared_error(test_y, xgb_ext_pred)\n",
    "xgb_ext_mape = mean_absolute_percentage_error(test_y, xgb_ext_pred)\n",
    "xgb_ext_r2 = r2_score(test_y, xgb_ext_pred)\n",
    "\n",
    "xgb_perf = {'mae':[xgb_cv_train_mae, xgb_cv_test_mae, xgb_ext_mae],\n",
    "            'mse':[xgb_cv_train_mse, xgb_cv_test_mse, xgb_ext_mse],\n",
    "            'mape':[xgb_cv_train_mape, xgb_cv_test_mape, xgb_ext_mape],\n",
    "            'r2':[xgb_cv_train_r2, xgb_cv_test_r2, xgb_ext_r2]}\n",
    "\n",
    "xgb_perf_df = pd.DataFrame.from_dict(xgb_perf)\n",
    "xgb_perf_df.index = ['train','cv', 'ext']\n",
    "round(xgb_perf_df, 2)"
   ]
  },
  {
   "cell_type": "code",
   "execution_count": 27,
   "metadata": {},
   "outputs": [
    {
     "data": {
      "text/html": [
       "<div>\n",
       "<style scoped>\n",
       "    .dataframe tbody tr th:only-of-type {\n",
       "        vertical-align: middle;\n",
       "    }\n",
       "\n",
       "    .dataframe tbody tr th {\n",
       "        vertical-align: top;\n",
       "    }\n",
       "\n",
       "    .dataframe thead th {\n",
       "        text-align: right;\n",
       "    }\n",
       "</style>\n",
       "<table border=\"1\" class=\"dataframe\">\n",
       "  <thead>\n",
       "    <tr style=\"text-align: right;\">\n",
       "      <th></th>\n",
       "      <th>mae</th>\n",
       "      <th>mse</th>\n",
       "      <th>mape</th>\n",
       "      <th>r2</th>\n",
       "    </tr>\n",
       "  </thead>\n",
       "  <tbody>\n",
       "    <tr>\n",
       "      <th>train</th>\n",
       "      <td>0.12</td>\n",
       "      <td>0.04</td>\n",
       "      <td>0.02</td>\n",
       "      <td>0.98</td>\n",
       "    </tr>\n",
       "    <tr>\n",
       "      <th>cv</th>\n",
       "      <td>0.52</td>\n",
       "      <td>0.49</td>\n",
       "      <td>0.09</td>\n",
       "      <td>0.73</td>\n",
       "    </tr>\n",
       "    <tr>\n",
       "      <th>ext</th>\n",
       "      <td>0.48</td>\n",
       "      <td>0.44</td>\n",
       "      <td>0.08</td>\n",
       "      <td>0.74</td>\n",
       "    </tr>\n",
       "  </tbody>\n",
       "</table>\n",
       "</div>"
      ],
      "text/plain": [
       "        mae   mse  mape    r2\n",
       "train  0.12  0.04  0.02  0.98\n",
       "cv     0.52  0.49  0.09  0.73\n",
       "ext    0.48  0.44  0.08  0.74"
      ]
     },
     "execution_count": 27,
     "metadata": {},
     "output_type": "execute_result"
    }
   ],
   "source": [
    "svm_ext_mae = mean_absolute_error(test_y, svm_ext_pred)\n",
    "svm_ext_mse = mean_squared_error(test_y, svm_ext_pred)\n",
    "svm_ext_mape = mean_absolute_percentage_error(test_y, svm_ext_pred)\n",
    "svm_ext_r2 = r2_score(test_y, svm_ext_pred)\n",
    "\n",
    "svm_perf = {'mae':[svm_cv_train_mae, svm_cv_test_mae, svm_ext_mae],\n",
    "            'mse':[svm_cv_train_mse, svm_cv_test_mse, svm_ext_mse],\n",
    "            'mape':[svm_cv_train_mape, svm_cv_test_mape, svm_ext_mape],\n",
    "            'r2':[svm_cv_train_r2, svm_cv_test_r2, svm_ext_r2]}\n",
    "\n",
    "svm_perf_df = pd.DataFrame.from_dict(svm_perf)\n",
    "svm_perf_df.index = ['train','cv', 'ext']\n",
    "round(svm_perf_df, 2)"
   ]
  },
  {
   "cell_type": "code",
   "execution_count": 28,
   "metadata": {},
   "outputs": [
    {
     "data": {
      "text/html": [
       "<div>\n",
       "<style scoped>\n",
       "    .dataframe tbody tr th:only-of-type {\n",
       "        vertical-align: middle;\n",
       "    }\n",
       "\n",
       "    .dataframe tbody tr th {\n",
       "        vertical-align: top;\n",
       "    }\n",
       "\n",
       "    .dataframe thead th {\n",
       "        text-align: right;\n",
       "    }\n",
       "</style>\n",
       "<table border=\"1\" class=\"dataframe\">\n",
       "  <thead>\n",
       "    <tr style=\"text-align: right;\">\n",
       "      <th></th>\n",
       "      <th>mae</th>\n",
       "      <th>mse</th>\n",
       "      <th>mape</th>\n",
       "      <th>r2</th>\n",
       "    </tr>\n",
       "  </thead>\n",
       "  <tbody>\n",
       "    <tr>\n",
       "      <th>train</th>\n",
       "      <td>0.22</td>\n",
       "      <td>0.09</td>\n",
       "      <td>0.04</td>\n",
       "      <td>0.95</td>\n",
       "    </tr>\n",
       "    <tr>\n",
       "      <th>cv</th>\n",
       "      <td>0.58</td>\n",
       "      <td>0.60</td>\n",
       "      <td>0.10</td>\n",
       "      <td>0.67</td>\n",
       "    </tr>\n",
       "    <tr>\n",
       "      <th>ext</th>\n",
       "      <td>0.55</td>\n",
       "      <td>0.57</td>\n",
       "      <td>0.09</td>\n",
       "      <td>0.66</td>\n",
       "    </tr>\n",
       "  </tbody>\n",
       "</table>\n",
       "</div>"
      ],
      "text/plain": [
       "        mae   mse  mape    r2\n",
       "train  0.22  0.09  0.04  0.95\n",
       "cv     0.58  0.60  0.10  0.67\n",
       "ext    0.55  0.57  0.09  0.66"
      ]
     },
     "execution_count": 28,
     "metadata": {},
     "output_type": "execute_result"
    }
   ],
   "source": [
    "rf_ext_mae = mean_absolute_error(test_y, rf_ext_pred)\n",
    "rf_ext_mse = mean_squared_error(test_y, rf_ext_pred)\n",
    "rf_ext_mape = mean_absolute_percentage_error(test_y, rf_ext_pred)\n",
    "rf_ext_r2 = r2_score(test_y, rf_ext_pred)\n",
    "\n",
    "rf_perf = {'mae':[rf_cv_train_mae, rf_cv_test_mae, rf_ext_mae],\n",
    "            'mse':[rf_cv_train_mse, rf_cv_test_mse, rf_ext_mse],\n",
    "            'mape':[rf_cv_train_mape, rf_cv_test_mape, rf_ext_mape],\n",
    "            'r2':[rf_cv_train_r2, rf_cv_test_r2, rf_ext_r2]}\n",
    "\n",
    "rf_perf_df = pd.DataFrame.from_dict(rf_perf)\n",
    "rf_perf_df.index = ['train','cv', 'ext']\n",
    "round(rf_perf_df, 2)"
   ]
  },
  {
   "cell_type": "code",
   "execution_count": 29,
   "metadata": {},
   "outputs": [
    {
     "data": {
      "text/html": [
       "<div>\n",
       "<style scoped>\n",
       "    .dataframe tbody tr th:only-of-type {\n",
       "        vertical-align: middle;\n",
       "    }\n",
       "\n",
       "    .dataframe tbody tr th {\n",
       "        vertical-align: top;\n",
       "    }\n",
       "\n",
       "    .dataframe thead th {\n",
       "        text-align: right;\n",
       "    }\n",
       "</style>\n",
       "<table border=\"1\" class=\"dataframe\">\n",
       "  <thead>\n",
       "    <tr style=\"text-align: right;\">\n",
       "      <th></th>\n",
       "      <th>mae</th>\n",
       "      <th>mse</th>\n",
       "      <th>mape</th>\n",
       "      <th>r2</th>\n",
       "    </tr>\n",
       "  </thead>\n",
       "  <tbody>\n",
       "    <tr>\n",
       "      <th>train</th>\n",
       "      <td>0.48</td>\n",
       "      <td>0.45</td>\n",
       "      <td>0.08</td>\n",
       "      <td>0.75</td>\n",
       "    </tr>\n",
       "    <tr>\n",
       "      <th>cv</th>\n",
       "      <td>0.60</td>\n",
       "      <td>0.72</td>\n",
       "      <td>0.10</td>\n",
       "      <td>0.60</td>\n",
       "    </tr>\n",
       "    <tr>\n",
       "      <th>ext</th>\n",
       "      <td>0.57</td>\n",
       "      <td>0.71</td>\n",
       "      <td>0.09</td>\n",
       "      <td>0.58</td>\n",
       "    </tr>\n",
       "  </tbody>\n",
       "</table>\n",
       "</div>"
      ],
      "text/plain": [
       "        mae   mse  mape    r2\n",
       "train  0.48  0.45  0.08  0.75\n",
       "cv     0.60  0.72  0.10  0.60\n",
       "ext    0.57  0.71  0.09  0.58"
      ]
     },
     "execution_count": 29,
     "metadata": {},
     "output_type": "execute_result"
    }
   ],
   "source": [
    "knn_ext_mae = mean_absolute_error(test_y, knn_ext_pred)\n",
    "knn_ext_mse = mean_squared_error(test_y, knn_ext_pred)\n",
    "knn_ext_mape = mean_absolute_percentage_error(test_y, knn_ext_pred)\n",
    "knn_ext_r2 = r2_score(test_y, knn_ext_pred)\n",
    "\n",
    "knn_perf = {'mae':[knn_cv_train_mae, knn_cv_test_mae, knn_ext_mae],\n",
    "            'mse':[knn_cv_train_mse, knn_cv_test_mse, knn_ext_mse],\n",
    "            'mape':[knn_cv_train_mape, knn_cv_test_mape, knn_ext_mape],\n",
    "            'r2':[knn_cv_train_r2, knn_cv_test_r2, knn_ext_r2]}\n",
    "\n",
    "knn_perf_df = pd.DataFrame.from_dict(knn_perf)\n",
    "knn_perf_df.index = ['train','cv', 'ext']\n",
    "round(knn_perf_df, 2)"
   ]
  },
  {
   "cell_type": "code",
   "execution_count": 24,
   "metadata": {},
   "outputs": [],
   "source": [
    "regression_res = pd.concat([xgb_perf_df, svm_perf_df, rf_perf_df, knn_perf_df], keys=['xgb', 'svm', 'rf', 'knn'])\n",
    "regression_res.to_csv('molnet_bace_xgb_svm_rf_knn_regression_metrics.csv')"
   ]
  },
  {
   "cell_type": "markdown",
   "metadata": {},
   "source": [
    "# save model"
   ]
  },
  {
   "cell_type": "code",
   "execution_count": 25,
   "metadata": {},
   "outputs": [],
   "source": [
    "with open('/Users/yanlixu/Desktop/git_code/machine_learning_prediction/xgb_reg_molnet_bace.pkl', 'wb') as file:\n",
    "    pickle.dump(xgb_model, file)\n",
    "with open('/Users/yanlixu/Desktop/git_code/machine_learning_prediction/svm_reg_molnet_bace.pkl', 'wb') as file:\n",
    "    pickle.dump(svm_model, file)\n",
    "with open('/Users/yanlixu/Desktop/git_code/machine_learning_prediction/rf_reg_molnet_bace.pkl', 'wb') as file:\n",
    "    pickle.dump(rf_best_model, file)\n",
    "with open('/Users/yanlixu/Desktop/git_code/machine_learning_prediction/knn_reg_molnet_bace.pkl', 'wb') as file:\n",
    "    pickle.dump(knn_model, file)"
   ]
  },
  {
   "cell_type": "code",
   "execution_count": null,
   "metadata": {},
   "outputs": [],
   "source": []
  }
 ],
 "metadata": {
  "kernelspec": {
   "display_name": "machineLearning",
   "language": "python",
   "name": "machinelearning"
  },
  "language_info": {
   "codemirror_mode": {
    "name": "ipython",
    "version": 3
   },
   "file_extension": ".py",
   "mimetype": "text/x-python",
   "name": "python",
   "nbconvert_exporter": "python",
   "pygments_lexer": "ipython3",
   "version": "3.9.7"
  }
 },
 "nbformat": 4,
 "nbformat_minor": 4
}
