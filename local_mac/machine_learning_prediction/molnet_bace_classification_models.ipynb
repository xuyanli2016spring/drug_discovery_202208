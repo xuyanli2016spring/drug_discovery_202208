{
 "cells": [
  {
   "cell_type": "code",
   "execution_count": 1,
   "metadata": {},
   "outputs": [],
   "source": [
    "import pandas as pd\n",
    "from rdkit import Chem\n",
    "from rdkit.Chem import AllChem\n",
    "import numpy as np\n",
    "import sklearn\n",
    "from sklearn.svm import SVC\n",
    "from sklearn.ensemble import RandomForestClassifier\n",
    "from sklearn.neighbors import KNeighborsClassifier\n",
    "import xgboost as xgb\n",
    "from sklearn.model_selection import GridSearchCV\n",
    "from sklearn.model_selection import cross_validate\n",
    "from sklearn.metrics import make_scorer\n",
    "from sklearn.metrics import roc_auc_score\n",
    "from sklearn.metrics import accuracy_score\n",
    "from sklearn.metrics import recall_score\n",
    "from sklearn.model_selection import train_test_split\n",
    "import pickle"
   ]
  },
  {
   "cell_type": "markdown",
   "metadata": {},
   "source": [
    "# read data"
   ]
  },
  {
   "cell_type": "code",
   "execution_count": 2,
   "metadata": {},
   "outputs": [],
   "source": [
    "file = pd.read_csv('/Users/yanlixu/Desktop/git_code/machine_learning_prediction/molnet_bace.csv')\n",
    "dataset = file[['mol', 'Class']]\n",
    "train_data_x, test_data_x, train_y, test_y = train_test_split(dataset['mol'], dataset['Class'], test_size = 0.2, random_state = 1 )\n"
   ]
  },
  {
   "cell_type": "code",
   "execution_count": 3,
   "metadata": {},
   "outputs": [
    {
     "data": {
      "text/plain": [
       "(1210, 303)"
      ]
     },
     "execution_count": 3,
     "metadata": {},
     "output_type": "execute_result"
    }
   ],
   "source": [
    "len(train_data_x), len(test_data_x)"
   ]
  },
  {
   "cell_type": "markdown",
   "metadata": {},
   "source": [
    "# calculate fingerprint"
   ]
  },
  {
   "cell_type": "code",
   "execution_count": 4,
   "metadata": {},
   "outputs": [],
   "source": [
    "train_mols = [Chem.MolFromSmiles(smi) for smi in train_data_x] # RDKit Mol object\n",
    "train_fps = [Chem.AllChem.GetMorganFingerprintAsBitVect(mol, 4, 2048) for mol in train_mols]\n",
    "train_x = np.asarray(train_fps, dtype = float)\n",
    "\n",
    "test_mols = [Chem.MolFromSmiles(smi) for smi in test_data_x] # RDKit Mol object\n",
    "test_fps = [Chem.AllChem.GetMorganFingerprintAsBitVect(mol, 4, 2048) for mol in test_mols]\n",
    "test_x = np.asarray(test_fps, dtype = float)"
   ]
  },
  {
   "cell_type": "markdown",
   "metadata": {},
   "source": [
    "# Grid search"
   ]
  },
  {
   "cell_type": "code",
   "execution_count": 5,
   "metadata": {},
   "outputs": [],
   "source": [
    "scoring = {'AUC':'roc_auc',\n",
    "           'ACC':make_scorer(accuracy_score),\n",
    "           'SEN':make_scorer(recall_score)}\n",
    "\n",
    "xgb_param_grid = {'n_estimators':[2, 4, 10, 30, 50, 70, 100],\n",
    "                  'max_depth':[1, 2, 3, 5, 6, 7, 8, 9, 10]}\n",
    "\n",
    "svm_param_dict = {'C':[0.1, 0.5, 1, 2, 3, 4, 5],\n",
    "                  'kernel':['linear', 'poly', 'rbf', 'sigmoid'],\n",
    "                  'probability':[True]}\n",
    "\n",
    "rf_param_dict = {'n_estimators':[50, 100, 120, 150, 160, 180, 200, 500],\n",
    "                 'max_depth':[10, 50, 100, 150, 200],\n",
    "                 'max_features': [\"auto\",\"sqrt\",\"log2\"]}\n",
    "\n",
    "knn_param_dict = {'n_neighbors':[5, 10, 15, 20],\n",
    "                  'weights':['uniform', 'distance']}"
   ]
  },
  {
   "cell_type": "code",
   "execution_count": 6,
   "metadata": {},
   "outputs": [],
   "source": [
    "#xgb_classifier = xgb.XGBClassifier(use_label_encoder=False)\n",
    "xgb_classifier = xgb.XGBClassifier(use_label_encoder=False, eval_metric='auc')\n",
    "\n",
    "xgb_gs = GridSearchCV(xgb_classifier,\n",
    "                      xgb_param_grid,\n",
    "                      scoring = scoring,\n",
    "                      cv = 5,\n",
    "                      n_jobs = 12,\n",
    "                      refit = 'AUC',\n",
    "                      return_train_score = True)\n",
    "\n",
    "xgb_gs_ecfp = xgb_gs.fit(train_x, train_y)\n",
    "xgb_model = xgb_gs_ecfp.best_estimator_"
   ]
  },
  {
   "cell_type": "code",
   "execution_count": 7,
   "metadata": {},
   "outputs": [],
   "source": [
    "# svm\n",
    "svm_classifier = SVC()\n",
    "svm_gs = GridSearchCV(estimator = svm_classifier, param_grid = svm_param_dict, scoring = scoring, n_jobs = 10, cv = 10, refit = 'AUC', return_train_score = True)\n",
    "\n",
    "svm_gs_fit = svm_gs.fit(train_x, train_y)\n",
    "svm_model = svm_gs_fit.best_estimator_\n"
   ]
  },
  {
   "cell_type": "code",
   "execution_count": 8,
   "metadata": {},
   "outputs": [],
   "source": [
    "# random forest\n",
    "rf_classifier = RandomForestClassifier()\n",
    "rf_gs = GridSearchCV(estimator = rf_classifier,\n",
    "                     param_grid = rf_param_dict,\n",
    "                     scoring = scoring,\n",
    "                     n_jobs = 10,\n",
    "                     cv = 5, \n",
    "                     refit = 'AUC',\n",
    "                     return_train_score = True)\n",
    "rf_gs_fit = rf_gs.fit(train_x, train_y)\n",
    "rf_model = rf_gs_fit.best_estimator_"
   ]
  },
  {
   "cell_type": "code",
   "execution_count": 9,
   "metadata": {},
   "outputs": [],
   "source": [
    "# random forest\n",
    "knn_classifier = KNeighborsClassifier()\n",
    "knn_gs = GridSearchCV(estimator = knn_classifier,\n",
    "                     param_grid = knn_param_dict,\n",
    "                     scoring = scoring,\n",
    "                     n_jobs = 10,\n",
    "                     cv = 5, \n",
    "                     refit = 'AUC',\n",
    "                     return_train_score = True)\n",
    "knn_gs_fit = knn_gs.fit(train_x, train_y)\n",
    "knn_model = knn_gs_fit.best_estimator_"
   ]
  },
  {
   "cell_type": "code",
   "execution_count": 10,
   "metadata": {},
   "outputs": [
    {
     "data": {
      "text/plain": [
       "XGBClassifier(base_score=0.5, booster='gbtree', colsample_bylevel=1,\n",
       "              colsample_bynode=1, colsample_bytree=1, enable_categorical=False,\n",
       "              eval_metric='auc', gamma=0, gpu_id=-1, importance_type=None,\n",
       "              interaction_constraints='', learning_rate=0.300000012,\n",
       "              max_delta_step=0, max_depth=7, min_child_weight=1, missing=nan,\n",
       "              monotone_constraints='()', n_estimators=50, n_jobs=12,\n",
       "              num_parallel_tree=1, predictor='auto', random_state=0,\n",
       "              reg_alpha=0, reg_lambda=1, scale_pos_weight=1, subsample=1,\n",
       "              tree_method='exact', use_label_encoder=False,\n",
       "              validate_parameters=1, verbosity=None)"
      ]
     },
     "execution_count": 10,
     "metadata": {},
     "output_type": "execute_result"
    }
   ],
   "source": [
    "xgb_model"
   ]
  },
  {
   "cell_type": "code",
   "execution_count": 11,
   "metadata": {},
   "outputs": [
    {
     "data": {
      "text/plain": [
       "SVC(C=1, kernel='poly', probability=True)"
      ]
     },
     "execution_count": 11,
     "metadata": {},
     "output_type": "execute_result"
    }
   ],
   "source": [
    "svm_model"
   ]
  },
  {
   "cell_type": "code",
   "execution_count": 12,
   "metadata": {},
   "outputs": [
    {
     "data": {
      "text/plain": [
       "RandomForestClassifier(max_depth=200, max_features='log2', n_estimators=160)"
      ]
     },
     "execution_count": 12,
     "metadata": {},
     "output_type": "execute_result"
    }
   ],
   "source": [
    "rf_model"
   ]
  },
  {
   "cell_type": "code",
   "execution_count": 13,
   "metadata": {},
   "outputs": [
    {
     "data": {
      "text/plain": [
       "KNeighborsClassifier(weights='distance')"
      ]
     },
     "execution_count": 13,
     "metadata": {},
     "output_type": "execute_result"
    }
   ],
   "source": [
    "knn_model"
   ]
  },
  {
   "cell_type": "markdown",
   "metadata": {},
   "source": [
    "# cross validation"
   ]
  },
  {
   "cell_type": "code",
   "execution_count": 14,
   "metadata": {},
   "outputs": [],
   "source": [
    "xgb_cv = cross_validate(xgb_model,\n",
    "                        train_x,\n",
    "                        train_y,\n",
    "                        cv = 5,\n",
    "                        n_jobs = 12,\n",
    "                        scoring = scoring,\n",
    "                        return_train_score = True)\n",
    "\n",
    "xgb_cv_train_auc = np.mean(xgb_cv['train_AUC'])\n",
    "xgb_cv_test_auc = np.mean(xgb_cv['test_AUC'])\n",
    "xgb_cv_train_acc = np.mean(xgb_cv['train_ACC'])\n",
    "xgb_cv_test_acc = np.mean(xgb_cv['test_ACC'])\n",
    "\n",
    "xgb_cv_train_sen = np.mean(xgb_cv['train_SEN'])\n",
    "xgb_cv_test_sen = np.mean(xgb_cv['test_SEN'])\n",
    "xgb_cv_train_spc = (xgb_cv_train_acc * len(train_y) - xgb_cv_train_sen * train_y.sum())/(len(train_y)-train_y.sum())\n",
    "xgb_cv_test_spc = (xgb_cv_test_acc * len(train_y) - xgb_cv_test_sen * train_y.sum())/(len(train_y)-train_y.sum())"
   ]
  },
  {
   "cell_type": "code",
   "execution_count": 15,
   "metadata": {},
   "outputs": [],
   "source": [
    "svm_cv = cross_validate(estimator = svm_model,\n",
    "                             X = train_x,\n",
    "                             y = train_y,\n",
    "                             scoring = scoring,\n",
    "                             cv = 5,\n",
    "                             n_jobs = 10,\n",
    "                             return_train_score = True)\n",
    "\n",
    "svm_cv_train_auc = np.mean(svm_cv['train_AUC'])\n",
    "svm_cv_test_auc = np.mean(svm_cv['test_AUC'])\n",
    "svm_cv_train_acc = np.mean(svm_cv['train_ACC'])\n",
    "svm_cv_test_acc = np.mean(svm_cv['test_ACC'])\n",
    "\n",
    "svm_cv_train_sen = np.mean(svm_cv['train_SEN'])\n",
    "svm_cv_test_sen = np.mean(svm_cv['test_SEN'])\n",
    "svm_cv_train_spc = (svm_cv_train_acc * len(train_y) - svm_cv_train_sen * train_y.sum())/(len(train_y)-train_y.sum())\n",
    "svm_cv_test_spc = (svm_cv_test_acc * len(train_y) - svm_cv_test_sen * train_y.sum())/(len(train_y)-train_y.sum())"
   ]
  },
  {
   "cell_type": "code",
   "execution_count": 16,
   "metadata": {},
   "outputs": [],
   "source": [
    "rf_cv = cross_validate(estimator = rf_model,\n",
    "                             X = train_x,\n",
    "                             y = train_y,\n",
    "                             scoring = scoring,\n",
    "                             cv = 5,\n",
    "                             n_jobs = 10,\n",
    "                             return_train_score = True)\n",
    "\n",
    "rf_cv_train_auc = np.mean(rf_cv['train_AUC'])\n",
    "rf_cv_test_auc = np.mean(rf_cv['test_AUC'])\n",
    "rf_cv_train_acc = np.mean(rf_cv['train_ACC'])\n",
    "rf_cv_test_acc = np.mean(rf_cv['test_ACC'])\n",
    "\n",
    "rf_cv_train_sen = np.mean(rf_cv['train_SEN'])\n",
    "rf_cv_test_sen = np.mean(rf_cv['test_SEN'])\n",
    "rf_cv_train_spc = (rf_cv_train_acc * len(train_y) - rf_cv_train_sen * train_y.sum())/(len(train_y)-train_y.sum())\n",
    "rf_cv_test_spc = (rf_cv_test_acc * len(train_y) - rf_cv_test_sen * train_y.sum())/(len(train_y)-train_y.sum())"
   ]
  },
  {
   "cell_type": "code",
   "execution_count": 17,
   "metadata": {},
   "outputs": [],
   "source": [
    "knn_cv = cross_validate(estimator = knn_model,\n",
    "                             X = train_x,\n",
    "                             y = train_y,\n",
    "                             scoring = scoring,\n",
    "                             cv = 5,\n",
    "                             n_jobs = 10,\n",
    "                             return_train_score = True)\n",
    "\n",
    "knn_cv_train_auc = np.mean(knn_cv['train_AUC'])\n",
    "knn_cv_test_auc = np.mean(knn_cv['test_AUC'])\n",
    "knn_cv_train_acc = np.mean(knn_cv['train_ACC'])\n",
    "knn_cv_test_acc = np.mean(knn_cv['test_ACC'])\n",
    "\n",
    "knn_cv_train_sen = np.mean(knn_cv['train_SEN'])\n",
    "knn_cv_test_sen = np.mean(knn_cv['test_SEN'])\n",
    "knn_cv_train_spc = (knn_cv_train_acc * len(train_y) - knn_cv_train_sen * train_y.sum())/(len(train_y)-train_y.sum())\n",
    "knn_cv_test_spc = (knn_cv_test_acc * len(train_y) - knn_cv_test_sen * train_y.sum())/(len(train_y)-train_y.sum())"
   ]
  },
  {
   "cell_type": "markdown",
   "metadata": {},
   "source": [
    "# external test"
   ]
  },
  {
   "cell_type": "code",
   "execution_count": 18,
   "metadata": {},
   "outputs": [
    {
     "data": {
      "text/html": [
       "<div>\n",
       "<style scoped>\n",
       "    .dataframe tbody tr th:only-of-type {\n",
       "        vertical-align: middle;\n",
       "    }\n",
       "\n",
       "    .dataframe tbody tr th {\n",
       "        vertical-align: top;\n",
       "    }\n",
       "\n",
       "    .dataframe thead th {\n",
       "        text-align: right;\n",
       "    }\n",
       "</style>\n",
       "<table border=\"1\" class=\"dataframe\">\n",
       "  <thead>\n",
       "    <tr style=\"text-align: right;\">\n",
       "      <th></th>\n",
       "      <th>mol</th>\n",
       "      <th>true_class</th>\n",
       "      <th>xgb_test_prob</th>\n",
       "      <th>xgb_test_class</th>\n",
       "      <th>svm_test_prob</th>\n",
       "      <th>svm_test_class</th>\n",
       "      <th>rf_test_prob</th>\n",
       "      <th>rf_test_class</th>\n",
       "      <th>knn_test_prob</th>\n",
       "      <th>knn_test_class</th>\n",
       "    </tr>\n",
       "  </thead>\n",
       "  <tbody>\n",
       "    <tr>\n",
       "      <th>0</th>\n",
       "      <td>0.689886</td>\n",
       "      <td>1</td>\n",
       "      <td>0.689886</td>\n",
       "      <td>1</td>\n",
       "      <td>0.854470</td>\n",
       "      <td>1</td>\n",
       "      <td>0.725000</td>\n",
       "      <td>1</td>\n",
       "      <td>0.600661</td>\n",
       "      <td>1</td>\n",
       "    </tr>\n",
       "    <tr>\n",
       "      <th>1</th>\n",
       "      <td>0.054249</td>\n",
       "      <td>0</td>\n",
       "      <td>0.054249</td>\n",
       "      <td>0</td>\n",
       "      <td>0.130663</td>\n",
       "      <td>0</td>\n",
       "      <td>0.087500</td>\n",
       "      <td>0</td>\n",
       "      <td>0.000000</td>\n",
       "      <td>0</td>\n",
       "    </tr>\n",
       "    <tr>\n",
       "      <th>2</th>\n",
       "      <td>0.027988</td>\n",
       "      <td>0</td>\n",
       "      <td>0.027988</td>\n",
       "      <td>0</td>\n",
       "      <td>0.101019</td>\n",
       "      <td>0</td>\n",
       "      <td>0.081250</td>\n",
       "      <td>0</td>\n",
       "      <td>0.000000</td>\n",
       "      <td>0</td>\n",
       "    </tr>\n",
       "    <tr>\n",
       "      <th>3</th>\n",
       "      <td>0.937078</td>\n",
       "      <td>1</td>\n",
       "      <td>0.937078</td>\n",
       "      <td>1</td>\n",
       "      <td>0.947126</td>\n",
       "      <td>1</td>\n",
       "      <td>0.900000</td>\n",
       "      <td>1</td>\n",
       "      <td>1.000000</td>\n",
       "      <td>1</td>\n",
       "    </tr>\n",
       "    <tr>\n",
       "      <th>4</th>\n",
       "      <td>0.068259</td>\n",
       "      <td>0</td>\n",
       "      <td>0.068259</td>\n",
       "      <td>0</td>\n",
       "      <td>0.109701</td>\n",
       "      <td>0</td>\n",
       "      <td>0.100000</td>\n",
       "      <td>0</td>\n",
       "      <td>0.000000</td>\n",
       "      <td>0</td>\n",
       "    </tr>\n",
       "    <tr>\n",
       "      <th>...</th>\n",
       "      <td>...</td>\n",
       "      <td>...</td>\n",
       "      <td>...</td>\n",
       "      <td>...</td>\n",
       "      <td>...</td>\n",
       "      <td>...</td>\n",
       "      <td>...</td>\n",
       "      <td>...</td>\n",
       "      <td>...</td>\n",
       "      <td>...</td>\n",
       "    </tr>\n",
       "    <tr>\n",
       "      <th>298</th>\n",
       "      <td>0.159404</td>\n",
       "      <td>0</td>\n",
       "      <td>0.159404</td>\n",
       "      <td>0</td>\n",
       "      <td>0.332690</td>\n",
       "      <td>0</td>\n",
       "      <td>0.334375</td>\n",
       "      <td>0</td>\n",
       "      <td>0.410490</td>\n",
       "      <td>0</td>\n",
       "    </tr>\n",
       "    <tr>\n",
       "      <th>299</th>\n",
       "      <td>0.136806</td>\n",
       "      <td>0</td>\n",
       "      <td>0.136806</td>\n",
       "      <td>0</td>\n",
       "      <td>0.308127</td>\n",
       "      <td>0</td>\n",
       "      <td>0.381250</td>\n",
       "      <td>0</td>\n",
       "      <td>0.600632</td>\n",
       "      <td>0</td>\n",
       "    </tr>\n",
       "    <tr>\n",
       "      <th>300</th>\n",
       "      <td>0.964712</td>\n",
       "      <td>1</td>\n",
       "      <td>0.964712</td>\n",
       "      <td>1</td>\n",
       "      <td>0.940730</td>\n",
       "      <td>1</td>\n",
       "      <td>0.975000</td>\n",
       "      <td>1</td>\n",
       "      <td>1.000000</td>\n",
       "      <td>1</td>\n",
       "    </tr>\n",
       "    <tr>\n",
       "      <th>301</th>\n",
       "      <td>0.010074</td>\n",
       "      <td>0</td>\n",
       "      <td>0.010074</td>\n",
       "      <td>0</td>\n",
       "      <td>0.108345</td>\n",
       "      <td>0</td>\n",
       "      <td>0.120313</td>\n",
       "      <td>0</td>\n",
       "      <td>0.000000</td>\n",
       "      <td>0</td>\n",
       "    </tr>\n",
       "    <tr>\n",
       "      <th>302</th>\n",
       "      <td>0.545794</td>\n",
       "      <td>1</td>\n",
       "      <td>0.545794</td>\n",
       "      <td>1</td>\n",
       "      <td>0.668139</td>\n",
       "      <td>1</td>\n",
       "      <td>0.481250</td>\n",
       "      <td>1</td>\n",
       "      <td>0.560281</td>\n",
       "      <td>1</td>\n",
       "    </tr>\n",
       "  </tbody>\n",
       "</table>\n",
       "<p>303 rows × 10 columns</p>\n",
       "</div>"
      ],
      "text/plain": [
       "          mol  true_class  xgb_test_prob  xgb_test_class  svm_test_prob  \\\n",
       "0    0.689886           1       0.689886               1       0.854470   \n",
       "1    0.054249           0       0.054249               0       0.130663   \n",
       "2    0.027988           0       0.027988               0       0.101019   \n",
       "3    0.937078           1       0.937078               1       0.947126   \n",
       "4    0.068259           0       0.068259               0       0.109701   \n",
       "..        ...         ...            ...             ...            ...   \n",
       "298  0.159404           0       0.159404               0       0.332690   \n",
       "299  0.136806           0       0.136806               0       0.308127   \n",
       "300  0.964712           1       0.964712               1       0.940730   \n",
       "301  0.010074           0       0.010074               0       0.108345   \n",
       "302  0.545794           1       0.545794               1       0.668139   \n",
       "\n",
       "     svm_test_class  rf_test_prob  rf_test_class  knn_test_prob  \\\n",
       "0                 1      0.725000              1       0.600661   \n",
       "1                 0      0.087500              0       0.000000   \n",
       "2                 0      0.081250              0       0.000000   \n",
       "3                 1      0.900000              1       1.000000   \n",
       "4                 0      0.100000              0       0.000000   \n",
       "..              ...           ...            ...            ...   \n",
       "298               0      0.334375              0       0.410490   \n",
       "299               0      0.381250              0       0.600632   \n",
       "300               1      0.975000              1       1.000000   \n",
       "301               0      0.120313              0       0.000000   \n",
       "302               1      0.481250              1       0.560281   \n",
       "\n",
       "     knn_test_class  \n",
       "0                 1  \n",
       "1                 0  \n",
       "2                 0  \n",
       "3                 1  \n",
       "4                 0  \n",
       "..              ...  \n",
       "298               0  \n",
       "299               0  \n",
       "300               1  \n",
       "301               0  \n",
       "302               1  \n",
       "\n",
       "[303 rows x 10 columns]"
      ]
     },
     "execution_count": 18,
     "metadata": {},
     "output_type": "execute_result"
    }
   ],
   "source": [
    "xgb_ext_pred_prob = xgb_model.predict_proba(test_x)\n",
    "xgb_ext_pred_list = []\n",
    "for i, ext_score in enumerate(xgb_ext_pred_prob):\n",
    "    ext_score = ext_score[1]\n",
    "    xgb_ext_pred_list.append(ext_score)\n",
    "\n",
    "svm_ext_pred_prob = svm_model.predict_proba(test_x)\n",
    "svm_ext_pred_list = []\n",
    "for i, ext_score in enumerate(svm_ext_pred_prob):\n",
    "    ext_score = ext_score[1]\n",
    "    svm_ext_pred_list.append(ext_score)\n",
    "    \n",
    "rf_ext_pred_prob = rf_model.predict_proba(test_x)\n",
    "rf_ext_pred_list = []\n",
    "for i, ext_score in enumerate(rf_ext_pred_prob):\n",
    "    ext_score = ext_score[1]\n",
    "    rf_ext_pred_list.append(ext_score)\n",
    "    \n",
    "knn_ext_pred_prob = knn_model.predict_proba(test_x)\n",
    "knn_ext_pred_list = []\n",
    "for i, ext_score in enumerate(knn_ext_pred_prob):\n",
    "    ext_score = ext_score[1]\n",
    "    knn_ext_pred_list.append(ext_score)\n",
    "\n",
    "\n",
    "ext_test_df =  pd.DataFrame({'mol':xgb_ext_pred_list,\n",
    "                            'true_class':test_y.tolist(),\n",
    "                            'xgb_test_prob': xgb_ext_pred_list,\n",
    "                            'xgb_test_class': [int(item) for item in np.round(xgb_ext_pred_list)],\n",
    "                            'svm_test_prob': svm_ext_pred_list,\n",
    "                            'svm_test_class': [int(item) for item in np.round(xgb_ext_pred_list)],\n",
    "                            'rf_test_prob': rf_ext_pred_list,\n",
    "                            'rf_test_class': [int(item) for item in np.round(xgb_ext_pred_list)],\n",
    "                            'knn_test_prob': knn_ext_pred_list,\n",
    "                            'knn_test_class': [int(item) for item in np.round(xgb_ext_pred_list)]                             \n",
    "                            })\n",
    "ext_test_df"
   ]
  },
  {
   "cell_type": "code",
   "execution_count": 19,
   "metadata": {},
   "outputs": [],
   "source": [
    "ext_test_df.to_csv('molnet_bace_classification_models_prediction_results.csv')"
   ]
  },
  {
   "cell_type": "code",
   "execution_count": 20,
   "metadata": {},
   "outputs": [],
   "source": [
    "xgb_ext_pred_array = np.array(xgb_ext_pred_list)\n",
    "xgb_ext_auc = roc_auc_score(test_y, xgb_ext_pred_list)\n",
    "xgb_ext_acc = accuracy_score(test_y, np.round(xgb_ext_pred_array))\n",
    "xgb_ext_sen = recall_score(test_y, np.round(xgb_ext_pred_array))\n",
    "xgb_ext_spc = (xgb_ext_acc * len(test_y) - xgb_ext_sen * test_y.sum())/(len(test_y)-test_y.sum())"
   ]
  },
  {
   "cell_type": "code",
   "execution_count": 21,
   "metadata": {},
   "outputs": [],
   "source": [
    "svm_ext_pred_array = np.array(svm_ext_pred_list)\n",
    "svm_ext_auc = roc_auc_score(test_y, svm_ext_pred_list)\n",
    "svm_ext_acc = accuracy_score(test_y, np.round(svm_ext_pred_array))\n",
    "svm_ext_sen = recall_score(test_y, np.round(svm_ext_pred_array))\n",
    "svm_ext_spc = (svm_ext_acc * len(test_y) - svm_ext_sen * test_y.sum())/(len(test_y)-test_y.sum())"
   ]
  },
  {
   "cell_type": "code",
   "execution_count": 22,
   "metadata": {},
   "outputs": [],
   "source": [
    "rf_ext_pred_array = np.array(rf_ext_pred_list)\n",
    "rf_ext_auc = roc_auc_score(test_y, rf_ext_pred_list)\n",
    "rf_ext_acc = accuracy_score(test_y, np.round(rf_ext_pred_array))\n",
    "rf_ext_sen = recall_score(test_y, np.round(rf_ext_pred_array))\n",
    "rf_ext_spc = (rf_ext_acc * len(test_y) - rf_ext_sen * test_y.sum())/(len(test_y)-test_y.sum())"
   ]
  },
  {
   "cell_type": "code",
   "execution_count": 23,
   "metadata": {},
   "outputs": [],
   "source": [
    "knn_ext_pred_array = np.array(knn_ext_pred_list)\n",
    "knn_ext_auc = roc_auc_score(test_y, knn_ext_pred_list)\n",
    "knn_ext_acc = accuracy_score(test_y, np.round(knn_ext_pred_array))\n",
    "knn_ext_sen = recall_score(test_y, np.round(knn_ext_pred_array))\n",
    "knn_ext_spc = (knn_ext_acc * len(test_y) - knn_ext_sen * test_y.sum())/(len(test_y)-test_y.sum())"
   ]
  },
  {
   "cell_type": "markdown",
   "metadata": {},
   "source": [
    "# final results summary"
   ]
  },
  {
   "cell_type": "code",
   "execution_count": 24,
   "metadata": {},
   "outputs": [
    {
     "data": {
      "text/html": [
       "<div>\n",
       "<style scoped>\n",
       "    .dataframe tbody tr th:only-of-type {\n",
       "        vertical-align: middle;\n",
       "    }\n",
       "\n",
       "    .dataframe tbody tr th {\n",
       "        vertical-align: top;\n",
       "    }\n",
       "\n",
       "    .dataframe thead th {\n",
       "        text-align: right;\n",
       "    }\n",
       "</style>\n",
       "<table border=\"1\" class=\"dataframe\">\n",
       "  <thead>\n",
       "    <tr style=\"text-align: right;\">\n",
       "      <th></th>\n",
       "      <th>AUC</th>\n",
       "      <th>ACC</th>\n",
       "      <th>SEN</th>\n",
       "      <th>SPC</th>\n",
       "    </tr>\n",
       "  </thead>\n",
       "  <tbody>\n",
       "    <tr>\n",
       "      <th>train_cv</th>\n",
       "      <td>1.00</td>\n",
       "      <td>0.98</td>\n",
       "      <td>0.98</td>\n",
       "      <td>0.98</td>\n",
       "    </tr>\n",
       "    <tr>\n",
       "      <th>test_cv</th>\n",
       "      <td>0.90</td>\n",
       "      <td>0.80</td>\n",
       "      <td>0.78</td>\n",
       "      <td>0.82</td>\n",
       "    </tr>\n",
       "    <tr>\n",
       "      <th>test_ext</th>\n",
       "      <td>0.88</td>\n",
       "      <td>0.83</td>\n",
       "      <td>0.86</td>\n",
       "      <td>0.80</td>\n",
       "    </tr>\n",
       "  </tbody>\n",
       "</table>\n",
       "</div>"
      ],
      "text/plain": [
       "           AUC   ACC   SEN   SPC\n",
       "train_cv  1.00  0.98  0.98  0.98\n",
       "test_cv   0.90  0.80  0.78  0.82\n",
       "test_ext  0.88  0.83  0.86  0.80"
      ]
     },
     "execution_count": 24,
     "metadata": {},
     "output_type": "execute_result"
    }
   ],
   "source": [
    "xgb_perf = {'AUC':[xgb_cv_train_auc, xgb_cv_test_auc, xgb_ext_auc],\n",
    "            'ACC':[xgb_cv_train_acc, xgb_cv_test_acc, xgb_ext_acc],\n",
    "            'SEN':[xgb_cv_train_sen, xgb_cv_test_sen, xgb_ext_sen],\n",
    "            'SPC':[xgb_cv_train_spc, xgb_cv_test_spc, xgb_ext_spc]}\n",
    "xgb_perf_df = pd.DataFrame.from_dict(xgb_perf)\n",
    "xgb_perf_df.index = ['train_cv','test_cv', 'test_ext']\n",
    "round(xgb_perf_df, 2)"
   ]
  },
  {
   "cell_type": "code",
   "execution_count": 26,
   "metadata": {},
   "outputs": [
    {
     "data": {
      "text/html": [
       "<div>\n",
       "<style scoped>\n",
       "    .dataframe tbody tr th:only-of-type {\n",
       "        vertical-align: middle;\n",
       "    }\n",
       "\n",
       "    .dataframe tbody tr th {\n",
       "        vertical-align: top;\n",
       "    }\n",
       "\n",
       "    .dataframe thead th {\n",
       "        text-align: right;\n",
       "    }\n",
       "</style>\n",
       "<table border=\"1\" class=\"dataframe\">\n",
       "  <thead>\n",
       "    <tr style=\"text-align: right;\">\n",
       "      <th></th>\n",
       "      <th>AUC</th>\n",
       "      <th>ACC</th>\n",
       "      <th>SEN</th>\n",
       "      <th>SPC</th>\n",
       "    </tr>\n",
       "  </thead>\n",
       "  <tbody>\n",
       "    <tr>\n",
       "      <th>train_cv</th>\n",
       "      <td>0.99</td>\n",
       "      <td>0.94</td>\n",
       "      <td>0.92</td>\n",
       "      <td>0.96</td>\n",
       "    </tr>\n",
       "    <tr>\n",
       "      <th>test_cv</th>\n",
       "      <td>0.90</td>\n",
       "      <td>0.81</td>\n",
       "      <td>0.74</td>\n",
       "      <td>0.86</td>\n",
       "    </tr>\n",
       "    <tr>\n",
       "      <th>test_ext</th>\n",
       "      <td>0.88</td>\n",
       "      <td>0.83</td>\n",
       "      <td>0.83</td>\n",
       "      <td>0.82</td>\n",
       "    </tr>\n",
       "  </tbody>\n",
       "</table>\n",
       "</div>"
      ],
      "text/plain": [
       "           AUC   ACC   SEN   SPC\n",
       "train_cv  0.99  0.94  0.92  0.96\n",
       "test_cv   0.90  0.81  0.74  0.86\n",
       "test_ext  0.88  0.83  0.83  0.82"
      ]
     },
     "execution_count": 26,
     "metadata": {},
     "output_type": "execute_result"
    }
   ],
   "source": [
    "svm_perf = {'AUC':[svm_cv_train_auc, svm_cv_test_auc, svm_ext_auc],\n",
    "            'ACC':[svm_cv_train_acc, svm_cv_test_acc, svm_ext_acc],\n",
    "            'SEN':[svm_cv_train_sen, svm_cv_test_sen, svm_ext_sen],\n",
    "            'SPC':[svm_cv_train_spc, svm_cv_test_spc, svm_ext_spc]}\n",
    "svm_perf_df = pd.DataFrame.from_dict(svm_perf)\n",
    "svm_perf_df.index = ['train_cv','test_cv', 'test_ext']\n",
    "round(svm_perf_df, 2)"
   ]
  },
  {
   "cell_type": "code",
   "execution_count": 27,
   "metadata": {},
   "outputs": [
    {
     "data": {
      "text/html": [
       "<div>\n",
       "<style scoped>\n",
       "    .dataframe tbody tr th:only-of-type {\n",
       "        vertical-align: middle;\n",
       "    }\n",
       "\n",
       "    .dataframe tbody tr th {\n",
       "        vertical-align: top;\n",
       "    }\n",
       "\n",
       "    .dataframe thead th {\n",
       "        text-align: right;\n",
       "    }\n",
       "</style>\n",
       "<table border=\"1\" class=\"dataframe\">\n",
       "  <thead>\n",
       "    <tr style=\"text-align: right;\">\n",
       "      <th></th>\n",
       "      <th>AUC</th>\n",
       "      <th>ACC</th>\n",
       "      <th>SEN</th>\n",
       "      <th>SPC</th>\n",
       "    </tr>\n",
       "  </thead>\n",
       "  <tbody>\n",
       "    <tr>\n",
       "      <th>train_cv</th>\n",
       "      <td>1.00</td>\n",
       "      <td>0.99</td>\n",
       "      <td>1.00</td>\n",
       "      <td>0.99</td>\n",
       "    </tr>\n",
       "    <tr>\n",
       "      <th>test_cv</th>\n",
       "      <td>0.89</td>\n",
       "      <td>0.81</td>\n",
       "      <td>0.78</td>\n",
       "      <td>0.84</td>\n",
       "    </tr>\n",
       "    <tr>\n",
       "      <th>test_ext</th>\n",
       "      <td>0.88</td>\n",
       "      <td>0.83</td>\n",
       "      <td>0.84</td>\n",
       "      <td>0.83</td>\n",
       "    </tr>\n",
       "  </tbody>\n",
       "</table>\n",
       "</div>"
      ],
      "text/plain": [
       "           AUC   ACC   SEN   SPC\n",
       "train_cv  1.00  0.99  1.00  0.99\n",
       "test_cv   0.89  0.81  0.78  0.84\n",
       "test_ext  0.88  0.83  0.84  0.83"
      ]
     },
     "execution_count": 27,
     "metadata": {},
     "output_type": "execute_result"
    }
   ],
   "source": [
    "rf_perf = {'AUC':[rf_cv_train_auc, rf_cv_test_auc, rf_ext_auc],\n",
    "            'ACC':[rf_cv_train_acc, rf_cv_test_acc, rf_ext_acc],\n",
    "            'SEN':[rf_cv_train_sen, rf_cv_test_sen, rf_ext_sen],\n",
    "            'SPC':[rf_cv_train_spc, rf_cv_test_spc, rf_ext_spc]}\n",
    "rf_perf_df = pd.DataFrame.from_dict(rf_perf)\n",
    "rf_perf_df.index = ['train_cv','test_cv', 'test_ext']\n",
    "round(rf_perf_df, 2)"
   ]
  },
  {
   "cell_type": "code",
   "execution_count": 29,
   "metadata": {},
   "outputs": [
    {
     "data": {
      "text/html": [
       "<div>\n",
       "<style scoped>\n",
       "    .dataframe tbody tr th:only-of-type {\n",
       "        vertical-align: middle;\n",
       "    }\n",
       "\n",
       "    .dataframe tbody tr th {\n",
       "        vertical-align: top;\n",
       "    }\n",
       "\n",
       "    .dataframe thead th {\n",
       "        text-align: right;\n",
       "    }\n",
       "</style>\n",
       "<table border=\"1\" class=\"dataframe\">\n",
       "  <thead>\n",
       "    <tr style=\"text-align: right;\">\n",
       "      <th></th>\n",
       "      <th>AUC</th>\n",
       "      <th>ACC</th>\n",
       "      <th>SEN</th>\n",
       "      <th>SPC</th>\n",
       "    </tr>\n",
       "  </thead>\n",
       "  <tbody>\n",
       "    <tr>\n",
       "      <th>train_cv</th>\n",
       "      <td>1.00</td>\n",
       "      <td>0.99</td>\n",
       "      <td>0.99</td>\n",
       "      <td>1.00</td>\n",
       "    </tr>\n",
       "    <tr>\n",
       "      <th>test_cv</th>\n",
       "      <td>0.87</td>\n",
       "      <td>0.80</td>\n",
       "      <td>0.80</td>\n",
       "      <td>0.80</td>\n",
       "    </tr>\n",
       "    <tr>\n",
       "      <th>test_ext</th>\n",
       "      <td>0.87</td>\n",
       "      <td>0.81</td>\n",
       "      <td>0.86</td>\n",
       "      <td>0.75</td>\n",
       "    </tr>\n",
       "  </tbody>\n",
       "</table>\n",
       "</div>"
      ],
      "text/plain": [
       "           AUC   ACC   SEN   SPC\n",
       "train_cv  1.00  0.99  0.99  1.00\n",
       "test_cv   0.87  0.80  0.80  0.80\n",
       "test_ext  0.87  0.81  0.86  0.75"
      ]
     },
     "execution_count": 29,
     "metadata": {},
     "output_type": "execute_result"
    }
   ],
   "source": [
    "knn_perf = {'AUC':[knn_cv_train_auc, knn_cv_test_auc, knn_ext_auc],\n",
    "            'ACC':[knn_cv_train_acc, knn_cv_test_acc, knn_ext_acc],\n",
    "            'SEN':[knn_cv_train_sen, knn_cv_test_sen, knn_ext_sen],\n",
    "            'SPC':[knn_cv_train_spc, knn_cv_test_spc, knn_ext_spc]}\n",
    "knn_perf_df = pd.DataFrame.from_dict(knn_perf)\n",
    "knn_perf_df.index = ['train_cv','test_cv', 'test_ext']\n",
    "round(knn_perf_df, 2)"
   ]
  },
  {
   "cell_type": "code",
   "execution_count": 30,
   "metadata": {},
   "outputs": [],
   "source": [
    "classification_res = pd.concat([xgb_perf_df, svm_perf_df, rf_perf_df, knn_perf_df], keys=['xgb', 'svm', 'rf', 'knn'])\n",
    "classification_res.to_csv('molnet_bace_xgb_svm_rf_knn_classification_metrics.csv')"
   ]
  },
  {
   "cell_type": "markdown",
   "metadata": {},
   "source": [
    "# save model"
   ]
  },
  {
   "cell_type": "code",
   "execution_count": 51,
   "metadata": {},
   "outputs": [],
   "source": [
    "with open('/Users/yanlixu/Desktop/git_code/machine_learning_prediction/xgb_class_molnet_bace.pkl', 'wb') as f:\n",
    "    pickle.dump(xgb_model, f)\n",
    "with open('/Users/yanlixu/Desktop/git_code/machine_learning_prediction/svm_class_molnet_bace.pkl', 'wb') as f:\n",
    "    pickle.dump(svm_model, f)\n",
    "with open('/Users/yanlixu/Desktop/git_code/machine_learning_prediction/rf_class_molnet_bace.pkl', 'wb') as f:\n",
    "    pickle.dump(rf_model, f)\n",
    "with open('/Users/yanlixu/Desktop/git_code/machine_learning_prediction/knn_class_molnet_bace.pkl', 'wb') as f:\n",
    "    pickle.dump(knn_model, f)"
   ]
  },
  {
   "cell_type": "code",
   "execution_count": null,
   "metadata": {},
   "outputs": [],
   "source": []
  }
 ],
 "metadata": {
  "kernelspec": {
   "display_name": "machineLearning",
   "language": "python",
   "name": "machinelearning"
  },
  "language_info": {
   "codemirror_mode": {
    "name": "ipython",
    "version": 3
   },
   "file_extension": ".py",
   "mimetype": "text/x-python",
   "name": "python",
   "nbconvert_exporter": "python",
   "pygments_lexer": "ipython3",
   "version": "3.9.7"
  }
 },
 "nbformat": 4,
 "nbformat_minor": 4
}
