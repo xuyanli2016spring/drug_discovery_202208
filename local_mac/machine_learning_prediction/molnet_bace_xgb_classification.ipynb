{
 "cells": [
  {
   "cell_type": "code",
   "execution_count": 1,
   "metadata": {},
   "outputs": [],
   "source": [
    "import pandas as pd\n",
    "from rdkit import Chem\n",
    "from rdkit.Chem import AllChem\n",
    "import numpy as np\n",
    "import sklearn\n",
    "from sklearn.svm import SVC\n",
    "from sklearn.ensemble import RandomForestClassifier\n",
    "from sklearn.neighbors import KNeighborsClassifier\n",
    "import xgboost as xgb\n",
    "from sklearn.model_selection import GridSearchCV\n",
    "from sklearn.model_selection import cross_validate\n",
    "from sklearn.metrics import make_scorer\n",
    "from sklearn.metrics import roc_auc_score\n",
    "from sklearn.metrics import accuracy_score\n",
    "from sklearn.metrics import recall_score\n",
    "from sklearn.model_selection import train_test_split\n",
    "import pickle"
   ]
  },
  {
   "cell_type": "markdown",
   "metadata": {},
   "source": [
    "# read data"
   ]
  },
  {
   "cell_type": "code",
   "execution_count": 2,
   "metadata": {},
   "outputs": [],
   "source": [
    "file = pd.read_csv('/Users/yanlixu/Desktop/git_code/machine_learning_prediction/molnet_bace.csv')\n",
    "dataset = file[['mol', 'Class']]\n",
    "train_data_x, test_data_x, train_y, test_y = train_test_split(dataset['mol'], dataset['Class'], test_size = 0.2, random_state = 1 )\n"
   ]
  },
  {
   "cell_type": "code",
   "execution_count": 3,
   "metadata": {},
   "outputs": [
    {
     "data": {
      "text/plain": [
       "(1210, 303)"
      ]
     },
     "execution_count": 3,
     "metadata": {},
     "output_type": "execute_result"
    }
   ],
   "source": [
    "len(train_data_x), len(test_data_x)"
   ]
  },
  {
   "cell_type": "markdown",
   "metadata": {},
   "source": [
    "# calculate fingerprint"
   ]
  },
  {
   "cell_type": "code",
   "execution_count": 4,
   "metadata": {},
   "outputs": [],
   "source": [
    "train_mols = [Chem.MolFromSmiles(smi) for smi in train_data_x] # RDKit Mol object\n",
    "train_fps = [Chem.AllChem.GetMorganFingerprintAsBitVect(mol, 4, 2048) for mol in train_mols]\n",
    "train_x = np.asarray(train_fps, dtype = float)\n",
    "\n",
    "test_mols = [Chem.MolFromSmiles(smi) for smi in test_data_x] # RDKit Mol object\n",
    "test_fps = [Chem.AllChem.GetMorganFingerprintAsBitVect(mol, 4, 2048) for mol in test_mols]\n",
    "test_x = np.asarray(test_fps, dtype = float)"
   ]
  },
  {
   "cell_type": "markdown",
   "metadata": {},
   "source": [
    "# Grid search"
   ]
  },
  {
   "cell_type": "code",
   "execution_count": 5,
   "metadata": {},
   "outputs": [],
   "source": [
    "scoring = {'AUC':'roc_auc',\n",
    "           'ACC':make_scorer(accuracy_score),\n",
    "           'SEN':make_scorer(recall_score)}\n",
    "\n",
    "xgb_param_grid = {'n_estimators':[2, 4, 10, 30, 50, 70, 100],\n",
    "                  'max_depth':[1, 2, 3, 5, 6, 7, 8, 9, 10]}\n"
   ]
  },
  {
   "cell_type": "code",
   "execution_count": 6,
   "metadata": {},
   "outputs": [],
   "source": [
    "#xgb_classifier = xgb.XGBClassifier(use_label_encoder=False)\n",
    "xgb_classifier = xgb.XGBClassifier(use_label_encoder=False, eval_metric='auc')\n",
    "\n",
    "xgb_gs = GridSearchCV(xgb_classifier,\n",
    "                      xgb_param_grid,\n",
    "                      scoring = scoring,\n",
    "                      cv = 5,\n",
    "                      n_jobs = 12,\n",
    "                      refit = 'AUC',\n",
    "                      return_train_score = True)"
   ]
  },
  {
   "cell_type": "code",
   "execution_count": 7,
   "metadata": {},
   "outputs": [],
   "source": [
    "xgb_gs_ecfp = xgb_gs.fit(train_x, train_y)\n",
    "xgb_model = xgb_gs_ecfp.best_estimator_"
   ]
  },
  {
   "cell_type": "code",
   "execution_count": 8,
   "metadata": {},
   "outputs": [
    {
     "data": {
      "text/plain": [
       "XGBClassifier(base_score=0.5, booster='gbtree', colsample_bylevel=1,\n",
       "              colsample_bynode=1, colsample_bytree=1, enable_categorical=False,\n",
       "              eval_metric='auc', gamma=0, gpu_id=-1, importance_type=None,\n",
       "              interaction_constraints='', learning_rate=0.300000012,\n",
       "              max_delta_step=0, max_depth=7, min_child_weight=1, missing=nan,\n",
       "              monotone_constraints='()', n_estimators=50, n_jobs=12,\n",
       "              num_parallel_tree=1, predictor='auto', random_state=0,\n",
       "              reg_alpha=0, reg_lambda=1, scale_pos_weight=1, subsample=1,\n",
       "              tree_method='exact', use_label_encoder=False,\n",
       "              validate_parameters=1, verbosity=None)"
      ]
     },
     "execution_count": 8,
     "metadata": {},
     "output_type": "execute_result"
    }
   ],
   "source": [
    "xgb_model"
   ]
  },
  {
   "cell_type": "markdown",
   "metadata": {},
   "source": [
    "# cross validation"
   ]
  },
  {
   "cell_type": "code",
   "execution_count": 9,
   "metadata": {},
   "outputs": [],
   "source": [
    "xgb_cv = cross_validate(xgb_model,\n",
    "                        train_x,\n",
    "                        train_y,\n",
    "                        cv = 5,\n",
    "                        n_jobs = 12,\n",
    "                        scoring = scoring,\n",
    "                        return_train_score = True)"
   ]
  },
  {
   "cell_type": "code",
   "execution_count": 10,
   "metadata": {},
   "outputs": [
    {
     "data": {
      "text/html": [
       "<div>\n",
       "<style scoped>\n",
       "    .dataframe tbody tr th:only-of-type {\n",
       "        vertical-align: middle;\n",
       "    }\n",
       "\n",
       "    .dataframe tbody tr th {\n",
       "        vertical-align: top;\n",
       "    }\n",
       "\n",
       "    .dataframe thead th {\n",
       "        text-align: right;\n",
       "    }\n",
       "</style>\n",
       "<table border=\"1\" class=\"dataframe\">\n",
       "  <thead>\n",
       "    <tr style=\"text-align: right;\">\n",
       "      <th></th>\n",
       "      <th>AUC</th>\n",
       "      <th>ACC</th>\n",
       "      <th>SEN</th>\n",
       "      <th>SPC</th>\n",
       "    </tr>\n",
       "  </thead>\n",
       "  <tbody>\n",
       "    <tr>\n",
       "      <th>train</th>\n",
       "      <td>0.998897</td>\n",
       "      <td>0.982438</td>\n",
       "      <td>0.981851</td>\n",
       "      <td>0.982929</td>\n",
       "    </tr>\n",
       "    <tr>\n",
       "      <th>test</th>\n",
       "      <td>0.895242</td>\n",
       "      <td>0.802479</td>\n",
       "      <td>0.776740</td>\n",
       "      <td>0.824000</td>\n",
       "    </tr>\n",
       "  </tbody>\n",
       "</table>\n",
       "</div>"
      ],
      "text/plain": [
       "            AUC       ACC       SEN       SPC\n",
       "train  0.998897  0.982438  0.981851  0.982929\n",
       "test   0.895242  0.802479  0.776740  0.824000"
      ]
     },
     "execution_count": 10,
     "metadata": {},
     "output_type": "execute_result"
    }
   ],
   "source": [
    "xgb_cv_train_auc = np.mean(xgb_cv['train_AUC'])\n",
    "xgb_cv_test_auc = np.mean(xgb_cv['test_AUC'])\n",
    "xgb_cv_train_acc = np.mean(xgb_cv['train_ACC'])\n",
    "xgb_cv_test_acc = np.mean(xgb_cv['test_ACC'])\n",
    "\n",
    "xgb_cv_train_sen = np.mean(xgb_cv['train_SEN'])\n",
    "xgb_cv_test_sen = np.mean(xgb_cv['test_SEN'])\n",
    "xgb_cv_train_spc = (xgb_cv_train_acc * len(train_y) - xgb_cv_train_sen * train_y.sum())/(len(train_y)-train_y.sum())\n",
    "xgb_cv_test_spc = (xgb_cv_test_acc * len(train_y) - xgb_cv_test_sen * train_y.sum())/(len(train_y)-train_y.sum())\n",
    "\n",
    "xgb_cross_validation = {'AUC':[xgb_cv_train_auc, xgb_cv_test_auc],\n",
    "            'ACC':[xgb_cv_train_acc, xgb_cv_test_acc],\n",
    "            'SEN':[xgb_cv_train_sen, xgb_cv_test_sen],\n",
    "            'SPC':[xgb_cv_train_spc, xgb_cv_test_spc]}\n",
    "\n",
    "xgb_cross_validation_df = pd.DataFrame.from_dict(xgb_cross_validation)\n",
    "xgb_cross_validation_df.index = ['train', 'test']\n",
    "xgb_cross_validation_df"
   ]
  },
  {
   "cell_type": "markdown",
   "metadata": {},
   "source": [
    "# external test"
   ]
  },
  {
   "cell_type": "code",
   "execution_count": 11,
   "metadata": {},
   "outputs": [],
   "source": [
    "xgb_ext_pred_prob = xgb_model.predict_proba(test_x)\n",
    "xgb_ext_pred_list = []\n",
    "for i, ext_score in enumerate(xgb_ext_pred_prob):\n",
    "    ext_score = ext_score[1]\n",
    "    xgb_ext_pred_list.append(ext_score)"
   ]
  },
  {
   "cell_type": "code",
   "execution_count": 12,
   "metadata": {},
   "outputs": [],
   "source": [
    "xgb_ext_pred_array = np.array(xgb_ext_pred_list)\n",
    "xgb_ext_auc = roc_auc_score(test_y, xgb_ext_pred_list)\n",
    "xgb_ext_acc = accuracy_score(test_y, np.round(xgb_ext_pred_array))\n",
    "xgb_ext_sen = recall_score(test_y, np.round(xgb_ext_pred_array))\n",
    "xgb_ext_spc = (xgb_ext_acc * len(test_y) - xgb_ext_sen * test_y.sum())/(len(test_y)-test_y.sum())"
   ]
  },
  {
   "cell_type": "code",
   "execution_count": 15,
   "metadata": {},
   "outputs": [
    {
     "data": {
      "text/html": [
       "<div>\n",
       "<style scoped>\n",
       "    .dataframe tbody tr th:only-of-type {\n",
       "        vertical-align: middle;\n",
       "    }\n",
       "\n",
       "    .dataframe tbody tr th {\n",
       "        vertical-align: top;\n",
       "    }\n",
       "\n",
       "    .dataframe thead th {\n",
       "        text-align: right;\n",
       "    }\n",
       "</style>\n",
       "<table border=\"1\" class=\"dataframe\">\n",
       "  <thead>\n",
       "    <tr style=\"text-align: right;\">\n",
       "      <th></th>\n",
       "      <th>mol</th>\n",
       "      <th>true_class</th>\n",
       "      <th>test_class</th>\n",
       "    </tr>\n",
       "  </thead>\n",
       "  <tbody>\n",
       "    <tr>\n",
       "      <th>0</th>\n",
       "      <td>0.689886</td>\n",
       "      <td>1</td>\n",
       "      <td>1</td>\n",
       "    </tr>\n",
       "    <tr>\n",
       "      <th>1</th>\n",
       "      <td>0.054249</td>\n",
       "      <td>0</td>\n",
       "      <td>0</td>\n",
       "    </tr>\n",
       "    <tr>\n",
       "      <th>2</th>\n",
       "      <td>0.027988</td>\n",
       "      <td>0</td>\n",
       "      <td>0</td>\n",
       "    </tr>\n",
       "    <tr>\n",
       "      <th>3</th>\n",
       "      <td>0.937078</td>\n",
       "      <td>1</td>\n",
       "      <td>1</td>\n",
       "    </tr>\n",
       "    <tr>\n",
       "      <th>4</th>\n",
       "      <td>0.068259</td>\n",
       "      <td>0</td>\n",
       "      <td>0</td>\n",
       "    </tr>\n",
       "    <tr>\n",
       "      <th>...</th>\n",
       "      <td>...</td>\n",
       "      <td>...</td>\n",
       "      <td>...</td>\n",
       "    </tr>\n",
       "    <tr>\n",
       "      <th>298</th>\n",
       "      <td>0.159404</td>\n",
       "      <td>0</td>\n",
       "      <td>0</td>\n",
       "    </tr>\n",
       "    <tr>\n",
       "      <th>299</th>\n",
       "      <td>0.136806</td>\n",
       "      <td>0</td>\n",
       "      <td>0</td>\n",
       "    </tr>\n",
       "    <tr>\n",
       "      <th>300</th>\n",
       "      <td>0.964712</td>\n",
       "      <td>1</td>\n",
       "      <td>1</td>\n",
       "    </tr>\n",
       "    <tr>\n",
       "      <th>301</th>\n",
       "      <td>0.010074</td>\n",
       "      <td>0</td>\n",
       "      <td>0</td>\n",
       "    </tr>\n",
       "    <tr>\n",
       "      <th>302</th>\n",
       "      <td>0.545794</td>\n",
       "      <td>1</td>\n",
       "      <td>1</td>\n",
       "    </tr>\n",
       "  </tbody>\n",
       "</table>\n",
       "<p>303 rows × 3 columns</p>\n",
       "</div>"
      ],
      "text/plain": [
       "          mol  true_class  test_class\n",
       "0    0.689886           1           1\n",
       "1    0.054249           0           0\n",
       "2    0.027988           0           0\n",
       "3    0.937078           1           1\n",
       "4    0.068259           0           0\n",
       "..        ...         ...         ...\n",
       "298  0.159404           0           0\n",
       "299  0.136806           0           0\n",
       "300  0.964712           1           1\n",
       "301  0.010074           0           0\n",
       "302  0.545794           1           1\n",
       "\n",
       "[303 rows x 3 columns]"
      ]
     },
     "execution_count": 15,
     "metadata": {},
     "output_type": "execute_result"
    }
   ],
   "source": [
    "xgb_ext_df =  pd.DataFrame({'mol':xgb_ext_pred_list,\n",
    "                            'true_class':test_y.tolist(),\n",
    "                            'test_class': [int(item) for item in np.round(xgb_ext_pred_list)]})\n",
    "xgb_ext_df"
   ]
  },
  {
   "cell_type": "markdown",
   "metadata": {},
   "source": [
    "# final results summary"
   ]
  },
  {
   "cell_type": "code",
   "execution_count": 17,
   "metadata": {},
   "outputs": [],
   "source": [
    "xgb_perf = {'AUC':[xgb_cv_test_auc, xgb_ext_auc],\n",
    "            'ACC':[xgb_cv_test_acc, xgb_ext_acc],\n",
    "            'SEN':[xgb_cv_test_sen, xgb_ext_sen],\n",
    "            'SPC':[xgb_cv_test_spc, xgb_ext_spc]}\n"
   ]
  },
  {
   "cell_type": "code",
   "execution_count": 18,
   "metadata": {},
   "outputs": [
    {
     "data": {
      "text/html": [
       "<div>\n",
       "<style scoped>\n",
       "    .dataframe tbody tr th:only-of-type {\n",
       "        vertical-align: middle;\n",
       "    }\n",
       "\n",
       "    .dataframe tbody tr th {\n",
       "        vertical-align: top;\n",
       "    }\n",
       "\n",
       "    .dataframe thead th {\n",
       "        text-align: right;\n",
       "    }\n",
       "</style>\n",
       "<table border=\"1\" class=\"dataframe\">\n",
       "  <thead>\n",
       "    <tr style=\"text-align: right;\">\n",
       "      <th></th>\n",
       "      <th>AUC</th>\n",
       "      <th>ACC</th>\n",
       "      <th>SEN</th>\n",
       "      <th>SPC</th>\n",
       "    </tr>\n",
       "  </thead>\n",
       "  <tbody>\n",
       "    <tr>\n",
       "      <th>cv</th>\n",
       "      <td>0.895242</td>\n",
       "      <td>0.802479</td>\n",
       "      <td>0.776740</td>\n",
       "      <td>0.824000</td>\n",
       "    </tr>\n",
       "    <tr>\n",
       "      <th>ext</th>\n",
       "      <td>0.877388</td>\n",
       "      <td>0.831683</td>\n",
       "      <td>0.864286</td>\n",
       "      <td>0.803681</td>\n",
       "    </tr>\n",
       "  </tbody>\n",
       "</table>\n",
       "</div>"
      ],
      "text/plain": [
       "          AUC       ACC       SEN       SPC\n",
       "cv   0.895242  0.802479  0.776740  0.824000\n",
       "ext  0.877388  0.831683  0.864286  0.803681"
      ]
     },
     "execution_count": 18,
     "metadata": {},
     "output_type": "execute_result"
    }
   ],
   "source": [
    "xgb_perf_df = pd.DataFrame.from_dict(xgb_perf)\n",
    "xgb_perf_df.index = ['cv', 'ext']\n",
    "xgb_perf_df"
   ]
  },
  {
   "cell_type": "code",
   "execution_count": 19,
   "metadata": {},
   "outputs": [],
   "source": [
    "with open('/Users/yanlixu/Desktop/git_code/machine_learning_prediction/xgb_class_molnet_bace.pkl', 'wb') as f:\n",
    "    pickle.dump(xgb_model, f)"
   ]
  },
  {
   "cell_type": "code",
   "execution_count": null,
   "metadata": {},
   "outputs": [],
   "source": []
  }
 ],
 "metadata": {
  "kernelspec": {
   "display_name": "machineLearning",
   "language": "python",
   "name": "machinelearning"
  },
  "language_info": {
   "codemirror_mode": {
    "name": "ipython",
    "version": 3
   },
   "file_extension": ".py",
   "mimetype": "text/x-python",
   "name": "python",
   "nbconvert_exporter": "python",
   "pygments_lexer": "ipython3",
   "version": "3.9.7"
  }
 },
 "nbformat": 4,
 "nbformat_minor": 4
}
