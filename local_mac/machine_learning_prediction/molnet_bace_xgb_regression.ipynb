{
 "cells": [
  {
   "cell_type": "code",
   "execution_count": 1,
   "metadata": {},
   "outputs": [],
   "source": [
    "import pandas as pd\n",
    "from rdkit import Chem\n",
    "from rdkit.Chem import AllChem\n",
    "import numpy as np\n",
    "import sklearn\n",
    "import xgboost as xgb\n",
    "from sklearn.model_selection import GridSearchCV\n",
    "from sklearn.model_selection import cross_validate\n",
    "from sklearn.model_selection import train_test_split\n",
    "from sklearn.metrics import make_scorer\n",
    "from sklearn.metrics import mean_absolute_error\n",
    "from sklearn.metrics import mean_squared_error\n",
    "from sklearn.metrics import mean_absolute_percentage_error\n",
    "from sklearn.metrics import r2_score\n",
    "import pickle"
   ]
  },
  {
   "cell_type": "markdown",
   "metadata": {},
   "source": [
    "# read data"
   ]
  },
  {
   "cell_type": "code",
   "execution_count": 2,
   "metadata": {},
   "outputs": [],
   "source": [
    "file = pd.read_csv('/Users/yanlixu/Desktop/git_code/machine_learning_prediction/molnet_bace.csv')\n",
    "dataset = file[['mol', 'pIC50']]\n",
    "train_data_x, test_data_x, train_y, test_y = train_test_split(dataset['mol'], dataset['pIC50'], test_size = 0.2, random_state = 1 )\n"
   ]
  },
  {
   "cell_type": "code",
   "execution_count": 3,
   "metadata": {},
   "outputs": [
    {
     "data": {
      "text/plain": [
       "(1210, 303)"
      ]
     },
     "execution_count": 3,
     "metadata": {},
     "output_type": "execute_result"
    }
   ],
   "source": [
    "len(train_data_x), len(test_data_x)"
   ]
  },
  {
   "cell_type": "markdown",
   "metadata": {},
   "source": [
    "# calculate fingerPrint"
   ]
  },
  {
   "cell_type": "code",
   "execution_count": 4,
   "metadata": {},
   "outputs": [],
   "source": [
    "train_mols = [Chem.MolFromSmiles(smi) for smi in train_data_x] # RDKit Mol object\n",
    "train_fps = [Chem.AllChem.GetMorganFingerprintAsBitVect(mol, 4, 2048) for mol in train_mols]\n",
    "train_x = np.asarray(train_fps, dtype = float)\n",
    "\n",
    "test_mols = [Chem.MolFromSmiles(smi) for smi in test_data_x] # RDKit Mol object\n",
    "test_fps = [Chem.AllChem.GetMorganFingerprintAsBitVect(mol, 4, 2048) for mol in test_mols]\n",
    "test_x = np.asarray(test_fps, dtype = float)"
   ]
  },
  {
   "cell_type": "markdown",
   "metadata": {},
   "source": [
    "# Grid search"
   ]
  },
  {
   "cell_type": "code",
   "execution_count": 5,
   "metadata": {},
   "outputs": [],
   "source": [
    "# 1.参数字典\n",
    "xgb_param_grid = {'n_estimators':[10, 50, 100, 150, 200],\n",
    "                  'max_depth':[3, 6, 8, 10]}\n",
    "\n",
    "# 2.性能指标字典\n",
    "score_dict = {'mae':make_scorer(mean_absolute_error),\n",
    "              'mse':make_scorer(mean_squared_error),             \n",
    "              'mape':make_scorer(mean_absolute_percentage_error),\n",
    "              'r2':make_scorer(r2_score)}"
   ]
  },
  {
   "cell_type": "code",
   "execution_count": 6,
   "metadata": {},
   "outputs": [],
   "source": [
    "xgb_reg = xgb.XGBRegressor()\n",
    "xgb_gs = GridSearchCV(xgb_reg,\n",
    "                      xgb_param_grid,\n",
    "                      scoring = score_dict,\n",
    "                      cv = 5,\n",
    "                      refit = 'r2',\n",
    "                      return_train_score = True)"
   ]
  },
  {
   "cell_type": "code",
   "execution_count": 7,
   "metadata": {},
   "outputs": [],
   "source": [
    "xgb_gs_ecfp = xgb_gs.fit(train_x, train_y)\n",
    "xgb_model = xgb_gs_ecfp.best_estimator_"
   ]
  },
  {
   "cell_type": "code",
   "execution_count": 8,
   "metadata": {},
   "outputs": [
    {
     "data": {
      "text/plain": [
       "XGBRegressor(base_score=0.5, booster='gbtree', colsample_bylevel=1,\n",
       "             colsample_bynode=1, colsample_bytree=1, enable_categorical=False,\n",
       "             gamma=0, gpu_id=-1, importance_type=None,\n",
       "             interaction_constraints='', learning_rate=0.300000012,\n",
       "             max_delta_step=0, max_depth=6, min_child_weight=1, missing=nan,\n",
       "             monotone_constraints='()', n_estimators=50, n_jobs=12,\n",
       "             num_parallel_tree=1, predictor='auto', random_state=0, reg_alpha=0,\n",
       "             reg_lambda=1, scale_pos_weight=1, subsample=1, tree_method='exact',\n",
       "             validate_parameters=1, verbosity=None)"
      ]
     },
     "execution_count": 8,
     "metadata": {},
     "output_type": "execute_result"
    }
   ],
   "source": [
    "xgb_model"
   ]
  },
  {
   "cell_type": "markdown",
   "metadata": {},
   "source": [
    "# Cross Validation of XGBoost"
   ]
  },
  {
   "cell_type": "code",
   "execution_count": 9,
   "metadata": {},
   "outputs": [],
   "source": [
    "xgb_cv = cross_validate(xgb_model,\n",
    "                        train_x,\n",
    "                        train_y,\n",
    "                        cv = 5,\n",
    "                        n_jobs = 10,\n",
    "                        scoring = score_dict,\n",
    "                        return_train_score = True)"
   ]
  },
  {
   "cell_type": "code",
   "execution_count": 10,
   "metadata": {},
   "outputs": [
    {
     "ename": "IndentationError",
     "evalue": "unexpected indent (3240233288.py, line 11)",
     "output_type": "error",
     "traceback": [
      "\u001b[0;36m  File \u001b[0;32m\"/var/folders/xc/jng4p2451zqfyc9kktmgpsnr0000gn/T/ipykernel_8895/3240233288.py\"\u001b[0;36m, line \u001b[0;32m11\u001b[0m\n\u001b[0;31m    nm\u001b[0m\n\u001b[0m    ^\u001b[0m\n\u001b[0;31mIndentationError\u001b[0m\u001b[0;31m:\u001b[0m unexpected indent\n"
     ]
    }
   ],
   "source": [
    "xgb_cv_train_mae = np.mean(xgb_cv['train_mae'])\n",
    "xgb_cv_train_mse = np.mean(xgb_cv['train_mse'])\n",
    "xgb_cv_train_mape = np.mean(xgb_cv['train_mape'])\n",
    "xgb_cv_train_r2 = np.mean(xgb_cv['train_r2'])\n",
    "\n",
    "xgb_cv_test_mae = np.mean(xgb_cv['test_mae'])\n",
    "xgb_cv_test_mse = np.mean(xgb_cv['test_mse'])\n",
    "xgb_cv_test_mape = np.mean(xgb_cv['test_mape'])\n",
    "xgb_cv_test_r2 = np.mean(xgb_cv['test_r2'])\n",
    "\n",
    " nm"
   ]
  },
  {
   "cell_type": "markdown",
   "metadata": {},
   "source": [
    "# external test"
   ]
  },
  {
   "cell_type": "code",
   "execution_count": null,
   "metadata": {},
   "outputs": [],
   "source": [
    "xgb_ext_pred = xgb_model.predict(test_x)\n",
    "\n",
    "xgb_ext_df =  pd.DataFrame({'mol':test_data_x.tolist(),\n",
    "                            'true_pIC50':test_y.tolist(),\n",
    "                            'test_pIC50':xgb_ext_pred})\n",
    "xgb_ext_df"
   ]
  },
  {
   "cell_type": "markdown",
   "metadata": {},
   "source": [
    "# final results summary"
   ]
  },
  {
   "cell_type": "code",
   "execution_count": null,
   "metadata": {},
   "outputs": [],
   "source": [
    "xgb_ext_mae = mean_absolute_error(test_y, xgb_ext_pred)\n",
    "xgb_ext_mse = mean_squared_error(test_y, xgb_ext_pred)\n",
    "xgb_ext_mape = mean_absolute_percentage_error(test_y, xgb_ext_pred)\n",
    "xgb_ext_r2 = r2_score(test_y, xgb_ext_pred)\n",
    "\n",
    "xgb_perf = {'mae':[xgb_cv_test_mae, xgb_ext_mae],\n",
    "            'mse':[xgb_cv_test_mse, xgb_ext_mse],\n",
    "            'mape':[xgb_cv_test_mape, xgb_ext_mape],\n",
    "            'r2':[xgb_cv_test_r2, xgb_ext_r2]}"
   ]
  },
  {
   "cell_type": "code",
   "execution_count": null,
   "metadata": {},
   "outputs": [],
   "source": [
    "xgb_perf_df = pd.DataFrame.from_dict(xgb_perf)\n",
    "xgb_perf_df.index = ['cv', 'ext']\n",
    "xgb_perf_df"
   ]
  },
  {
   "cell_type": "markdown",
   "metadata": {},
   "source": [
    "# save model"
   ]
  },
  {
   "cell_type": "code",
   "execution_count": null,
   "metadata": {},
   "outputs": [],
   "source": [
    "with open('/Users/yanlixu/Desktop/git_code/machine_learning_prediction/xgb_reg_molnet_bace.pkl', 'wb') as file:\n",
    "    pickle.dump(xgb_model, file)"
   ]
  },
  {
   "cell_type": "code",
   "execution_count": null,
   "metadata": {},
   "outputs": [],
   "source": []
  }
 ],
 "metadata": {
  "kernelspec": {
   "display_name": "machineLearning",
   "language": "python",
   "name": "machinelearning"
  },
  "language_info": {
   "codemirror_mode": {
    "name": "ipython",
    "version": 3
   },
   "file_extension": ".py",
   "mimetype": "text/x-python",
   "name": "python",
   "nbconvert_exporter": "python",
   "pygments_lexer": "ipython3",
   "version": "3.9.7"
  }
 },
 "nbformat": 4,
 "nbformat_minor": 4
}
